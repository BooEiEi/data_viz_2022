{
  "nbformat": 4,
  "nbformat_minor": 0,
  "metadata": {
    "colab": {
      "name": "Basic Programming Concept.ipynb",
      "provenance": [],
      "authorship_tag": "ABX9TyOcccXHnWm3D5IyTUsJzspp",
      "include_colab_link": true
    },
    "kernelspec": {
      "name": "python3",
      "display_name": "Python 3"
    },
    "language_info": {
      "name": "python"
    }
  },
  "cells": [
    {
      "cell_type": "markdown",
      "metadata": {
        "id": "view-in-github",
        "colab_type": "text"
      },
      "source": [
        "<a href=\"https://colab.research.google.com/github/BooEiEi/data_viz_2022/blob/main/Basic_Programming_Concept.ipynb\" target=\"_parent\"><img src=\"https://colab.research.google.com/assets/colab-badge.svg\" alt=\"Open In Colab\"/></a>"
      ]
    },
    {
      "cell_type": "markdown",
      "source": [
        "#Function ($f(x)=y$)"
      ],
      "metadata": {
        "id": "3bscB0gVDjq6"
      }
    },
    {
      "cell_type": "markdown",
      "source": [
        "```python\n",
        "def function_name(input_x):\n",
        "     # do something with input_x to get output_y\n",
        "return output_y\n",
        "```"
      ],
      "metadata": {
        "id": "skRfqCUYENJF"
      }
    },
    {
      "cell_type": "markdown",
      "source": [
        "$f(x)=x^2 + 75$"
      ],
      "metadata": {
        "id": "hwpyuX3GFxXr"
      }
    },
    {
      "cell_type": "code",
      "source": [
        "def function_f1(x):\n",
        "      a = x**2 # **ยกกำลัง\n",
        "      y = a + 75\n",
        "      return y\n",
        "\n",
        "print('done!')"
      ],
      "metadata": {
        "colab": {
          "base_uri": "https://localhost:8080/"
        },
        "id": "T8imhkG_D1CW",
        "outputId": "0e7bf430-70f3-410c-8ee8-4dd595b17b65"
      },
      "execution_count": 6,
      "outputs": [
        {
          "output_type": "stream",
          "name": "stdout",
          "text": [
            "done!\n"
          ]
        }
      ]
    },
    {
      "cell_type": "code",
      "source": [
        "function_f1(3)"
      ],
      "metadata": {
        "colab": {
          "base_uri": "https://localhost:8080/"
        },
        "id": "oISLz7FOD064",
        "outputId": "66fec888-c054-4c77-fce9-8b110aa87d1d"
      },
      "execution_count": 2,
      "outputs": [
        {
          "output_type": "execute_result",
          "data": {
            "text/plain": [
              "84"
            ]
          },
          "metadata": {},
          "execution_count": 2
        }
      ]
    },
    {
      "cell_type": "markdown",
      "source": [
        "function มีส่วนสำคัญทั้งหมด 4 ส่วน\n",
        "\n",
        "1. บอก python ว่าเราจะเขียนฟังก์ชั่น ชื่ออะไร def function_name(): (ขาดไม่ได้)\n",
        "2. กำหนดตัวแปรที่จะเป็น input (ขาดได้)\n",
        "3. ส่วนประมวลผล do_something with input to get Output (ขาดไม่ได้)\n",
        "4. ส่วน output return Output (ขาดไม่ได้)"
      ],
      "metadata": {
        "id": "13G6NTjlHRv1"
      }
    },
    {
      "cell_type": "markdown",
      "source": [
        "### ตัวอย่าง function ที่มีส่วนประกอบครบ"
      ],
      "metadata": {
        "id": "rKa4ruEEH5hS"
      }
    },
    {
      "cell_type": "code",
      "source": [
        "def function_f1(x):\n",
        "      a = x**2 # **ยกกำลัง\n",
        "      y = a + 75\n",
        "      return y"
      ],
      "metadata": {
        "id": "QqOMSdhjD01H"
      },
      "execution_count": null,
      "outputs": []
    },
    {
      "cell_type": "markdown",
      "source": [
        "### ตัวอย่าง function ที่ไม่มี input\n"
      ],
      "metadata": {
        "id": "iTfpB4ILIFdD"
      }
    },
    {
      "cell_type": "code",
      "source": [
        "def pi_v():\n",
        "      y = 3.14159265359\n",
        "      return y"
      ],
      "metadata": {
        "id": "mXETFAk0D0tI"
      },
      "execution_count": 7,
      "outputs": []
    },
    {
      "cell_type": "code",
      "source": [
        "piv = pi_v()\n",
        "circle_area_r2 = pi_v()*(2**2)\n",
        "print(circle_area_r2)"
      ],
      "metadata": {
        "colab": {
          "base_uri": "https://localhost:8080/"
        },
        "id": "SPnERl0ND0mj",
        "outputId": "2563698e-2561-456e-8c57-cee277180314"
      },
      "execution_count": 8,
      "outputs": [
        {
          "output_type": "stream",
          "name": "stdout",
          "text": [
            "12.56637061436\n"
          ]
        }
      ]
    },
    {
      "cell_type": "markdown",
      "source": [
        "### Function ไม่มี process ไม่ได้"
      ],
      "metadata": {
        "id": "V7Ju_SC7JLSJ"
      }
    },
    {
      "cell_type": "code",
      "source": [
        "def function_a(): "
      ],
      "metadata": {
        "colab": {
          "base_uri": "https://localhost:8080/",
          "height": 131
        },
        "id": "ZjKErEkDI-CR",
        "outputId": "df015d82-ce9e-411f-e581-d6e32d079fe7"
      },
      "execution_count": 9,
      "outputs": [
        {
          "output_type": "error",
          "ename": "SyntaxError",
          "evalue": "ignored",
          "traceback": [
            "\u001b[0;36m  File \u001b[0;32m\"<ipython-input-9-07a0750214a8>\"\u001b[0;36m, line \u001b[0;32m1\u001b[0m\n\u001b[0;31m    def function_a():\u001b[0m\n\u001b[0m                     ^\u001b[0m\n\u001b[0;31mSyntaxError\u001b[0m\u001b[0;31m:\u001b[0m unexpected EOF while parsing\n"
          ]
        }
      ]
    },
    {
      "cell_type": "markdown",
      "source": [
        "### ตัวอย่าง Function ที่ไม่มี output"
      ],
      "metadata": {
        "id": "KoEkO_yWJWBi"
      }
    },
    {
      "cell_type": "code",
      "source": [
        "def print_name_id (name,id):\n",
        "      print(f'ชื่อ {name} รหัสประจำตัว {id}')"
      ],
      "metadata": {
        "id": "4HPLVnZmI9qj"
      },
      "execution_count": 12,
      "outputs": []
    },
    {
      "cell_type": "code",
      "source": [
        "print_name_id('ญาดา','623020732-5')"
      ],
      "metadata": {
        "colab": {
          "base_uri": "https://localhost:8080/"
        },
        "id": "o5DpwWX8J-Pr",
        "outputId": "2907c727-946c-4642-8987-1ec9c7c54802"
      },
      "execution_count": 13,
      "outputs": [
        {
          "output_type": "stream",
          "name": "stdout",
          "text": [
            "ชื่อ ญาดา รหัสประจำตัว 623020732-5\n"
          ]
        }
      ]
    },
    {
      "cell_type": "code",
      "source": [
        "a = print_name_id('ญาดา','623020732-5')"
      ],
      "metadata": {
        "colab": {
          "base_uri": "https://localhost:8080/"
        },
        "id": "7CVkMJ8CKdEq",
        "outputId": "90f264e2-c326-4211-e4c3-35c8ee71e28a"
      },
      "execution_count": 14,
      "outputs": [
        {
          "output_type": "stream",
          "name": "stdout",
          "text": [
            "ชื่อ ญาดา รหัสประจำตัว 623020732-5\n"
          ]
        }
      ]
    },
    {
      "cell_type": "code",
      "source": [
        "a"
      ],
      "metadata": {
        "id": "vub-IkilKiCa"
      },
      "execution_count": 15,
      "outputs": []
    },
    {
      "cell_type": "markdown",
      "source": [
        "#Looping (for)"
      ],
      "metadata": {
        "id": "DcQZno9jDjiu"
      }
    },
    {
      "cell_type": "code",
      "execution_count": null,
      "metadata": {
        "id": "tUGn0F_2DiyT"
      },
      "outputs": [],
      "source": [
        ""
      ]
    }
  ]
}