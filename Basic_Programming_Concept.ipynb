{
  "nbformat": 4,
  "nbformat_minor": 0,
  "metadata": {
    "colab": {
      "name": "Basic Programming Concept.ipynb",
      "provenance": [],
      "authorship_tag": "ABX9TyNDPSRNfQ9NrQAXK3c1oQXu",
      "include_colab_link": true
    },
    "kernelspec": {
      "name": "python3",
      "display_name": "Python 3"
    },
    "language_info": {
      "name": "python"
    }
  },
  "cells": [
    {
      "cell_type": "markdown",
      "metadata": {
        "id": "view-in-github",
        "colab_type": "text"
      },
      "source": [
        "<a href=\"https://colab.research.google.com/github/BooEiEi/data_viz_2022/blob/main/Basic_Programming_Concept.ipynb\" target=\"_parent\"><img src=\"https://colab.research.google.com/assets/colab-badge.svg\" alt=\"Open In Colab\"/></a>"
      ]
    },
    {
      "cell_type": "markdown",
      "source": [
        "#Function ($f(x)=y$)"
      ],
      "metadata": {
        "id": "3bscB0gVDjq6"
      }
    },
    {
      "cell_type": "markdown",
      "source": [
        "```python\n",
        "def function_name(input_x):\n",
        "     # do something with input_x to get output_y\n",
        "return output_y\n",
        "```"
      ],
      "metadata": {
        "id": "skRfqCUYENJF"
      }
    },
    {
      "cell_type": "markdown",
      "source": [
        "$f(x)=x^2 + 75$"
      ],
      "metadata": {
        "id": "hwpyuX3GFxXr"
      }
    },
    {
      "cell_type": "code",
      "source": [
        "def function_f1(x):\n",
        "      a = x**2 # **ยกกำลัง\n",
        "      y = a + 75\n",
        "      return y\n",
        "\n",
        "print('done!')"
      ],
      "metadata": {
        "colab": {
          "base_uri": "https://localhost:8080/"
        },
        "id": "T8imhkG_D1CW",
        "outputId": "f27ab13a-71a2-4c87-976c-fd2a8f1a464e"
      },
      "execution_count": null,
      "outputs": [
        {
          "output_type": "stream",
          "name": "stdout",
          "text": [
            "done!\n"
          ]
        }
      ]
    },
    {
      "cell_type": "code",
      "source": [
        "function_f1(3)"
      ],
      "metadata": {
        "colab": {
          "base_uri": "https://localhost:8080/"
        },
        "id": "oISLz7FOD064",
        "outputId": "2621277f-bc20-4674-e8f9-31b5b49395bf"
      },
      "execution_count": null,
      "outputs": [
        {
          "output_type": "execute_result",
          "data": {
            "text/plain": [
              "84"
            ]
          },
          "metadata": {},
          "execution_count": 15
        }
      ]
    },
    {
      "cell_type": "markdown",
      "source": [
        "function มีส่วนสำคัญทั้งหมด 4 ส่วน\n",
        "\n",
        "1. บอก python ว่าเราจะเขียนฟังก์ชั่น ชื่ออะไร def function_name(): (ขาดไม่ได้)\n",
        "2. กำหนดตัวแปรที่จะเป็น input (ขาดได้)\n",
        "3. ส่วนประมวลผล do_something with input to get Output (ขาดไม่ได้)\n",
        "4. ส่วน output return Output (ขาดไม่ได้)"
      ],
      "metadata": {
        "id": "13G6NTjlHRv1"
      }
    },
    {
      "cell_type": "markdown",
      "source": [
        "### ตัวอย่าง function ที่มีส่วนประกอบครบ"
      ],
      "metadata": {
        "id": "rKa4ruEEH5hS"
      }
    },
    {
      "cell_type": "code",
      "source": [
        "def function_f1(x):\n",
        "      a = x**2 # **ยกกำลัง\n",
        "      y = a + 75\n",
        "      return y"
      ],
      "metadata": {
        "id": "QqOMSdhjD01H"
      },
      "execution_count": null,
      "outputs": []
    },
    {
      "cell_type": "markdown",
      "source": [
        "### ตัวอย่าง function ที่ไม่มี input\n"
      ],
      "metadata": {
        "id": "iTfpB4ILIFdD"
      }
    },
    {
      "cell_type": "code",
      "source": [
        "def pi_v():\n",
        "      y = 3.14159265359\n",
        "      return y"
      ],
      "metadata": {
        "id": "mXETFAk0D0tI"
      },
      "execution_count": null,
      "outputs": []
    },
    {
      "cell_type": "code",
      "source": [
        "piv = pi_v()\n",
        "circle_area_r2 = pi_v()*(2**2)\n",
        "print(circle_area_r2)"
      ],
      "metadata": {
        "colab": {
          "base_uri": "https://localhost:8080/"
        },
        "id": "SPnERl0ND0mj",
        "outputId": "a5cd0d28-f862-4cfe-e82c-5f545b774112"
      },
      "execution_count": null,
      "outputs": [
        {
          "output_type": "stream",
          "name": "stdout",
          "text": [
            "12.56637061436\n"
          ]
        }
      ]
    },
    {
      "cell_type": "markdown",
      "source": [
        "### Function ไม่มี process ไม่ได้"
      ],
      "metadata": {
        "id": "V7Ju_SC7JLSJ"
      }
    },
    {
      "cell_type": "code",
      "source": [
        "def function_a(): "
      ],
      "metadata": {
        "colab": {
          "base_uri": "https://localhost:8080/",
          "height": 131
        },
        "id": "ZjKErEkDI-CR",
        "outputId": "374525c9-67a9-4809-8b26-f67a469c317b"
      },
      "execution_count": null,
      "outputs": [
        {
          "output_type": "error",
          "ename": "SyntaxError",
          "evalue": "ignored",
          "traceback": [
            "\u001b[0;36m  File \u001b[0;32m\"<ipython-input-19-81c7b2348be3>\"\u001b[0;36m, line \u001b[0;32m1\u001b[0m\n\u001b[0;31m    def function_a():\u001b[0m\n\u001b[0m                      ^\u001b[0m\n\u001b[0;31mSyntaxError\u001b[0m\u001b[0;31m:\u001b[0m unexpected EOF while parsing\n"
          ]
        }
      ]
    },
    {
      "cell_type": "markdown",
      "source": [
        "### ตัวอย่าง Function ที่ไม่มี output"
      ],
      "metadata": {
        "id": "KoEkO_yWJWBi"
      }
    },
    {
      "cell_type": "code",
      "source": [
        "def print_name_id (name,id):\n",
        "      print(f'ชื่อ {name} รหัสประจำตัว {id}')"
      ],
      "metadata": {
        "id": "4HPLVnZmI9qj"
      },
      "execution_count": null,
      "outputs": []
    },
    {
      "cell_type": "code",
      "source": [
        "print_name_id('ญาดา','623020732-5')"
      ],
      "metadata": {
        "colab": {
          "base_uri": "https://localhost:8080/"
        },
        "id": "o5DpwWX8J-Pr",
        "outputId": "8ec54d07-5a23-440e-db94-cf83262b5abc"
      },
      "execution_count": null,
      "outputs": [
        {
          "output_type": "stream",
          "name": "stdout",
          "text": [
            "ชื่อ ญาดา รหัสประจำตัว 623020732-5\n"
          ]
        }
      ]
    },
    {
      "cell_type": "code",
      "source": [
        "a = print_name_id('ญาดา','623020732-5')"
      ],
      "metadata": {
        "colab": {
          "base_uri": "https://localhost:8080/"
        },
        "id": "7CVkMJ8CKdEq",
        "outputId": "21362ba4-74e4-4e65-b1c2-cb26074abb43"
      },
      "execution_count": null,
      "outputs": [
        {
          "output_type": "stream",
          "name": "stdout",
          "text": [
            "ชื่อ ญาดา รหัสประจำตัว 623020732-5\n"
          ]
        }
      ]
    },
    {
      "cell_type": "code",
      "source": [
        "a"
      ],
      "metadata": {
        "id": "vub-IkilKiCa"
      },
      "execution_count": null,
      "outputs": []
    },
    {
      "cell_type": "markdown",
      "source": [
        "ตัวอย่าง function print https://www.programiz.com/python-programming/methods/built-in/print"
      ],
      "metadata": {
        "id": "sydcdTDYOwFM"
      }
    },
    {
      "cell_type": "code",
      "source": [
        "print('ญาดา',end='->')\n",
        "print('623020732-5')"
      ],
      "metadata": {
        "colab": {
          "base_uri": "https://localhost:8080/"
        },
        "id": "yxgSCcafO8f4",
        "outputId": "839b80d1-737e-4743-9a44-c2f21942bc69"
      },
      "execution_count": null,
      "outputs": [
        {
          "output_type": "stream",
          "name": "stdout",
          "text": [
            "ญาดา->623020732-5\n"
          ]
        }
      ]
    },
    {
      "cell_type": "code",
      "source": [
        "print('ญาดา','623020732-5')"
      ],
      "metadata": {
        "colab": {
          "base_uri": "https://localhost:8080/"
        },
        "id": "M2_pcfFBPY5L",
        "outputId": "23938edc-e6a9-41b0-9194-46c5d241f3b7"
      },
      "execution_count": null,
      "outputs": [
        {
          "output_type": "stream",
          "name": "stdout",
          "text": [
            "ญาดา 623020732-5\n"
          ]
        }
      ]
    },
    {
      "cell_type": "code",
      "source": [
        "print('ญาดา','623020732-5',sep=' & ')"
      ],
      "metadata": {
        "colab": {
          "base_uri": "https://localhost:8080/"
        },
        "id": "5RLH99JvPkPA",
        "outputId": "58afdcba-ef2a-4226-9343-17ad9360c9db"
      },
      "execution_count": null,
      "outputs": [
        {
          "output_type": "stream",
          "name": "stdout",
          "text": [
            "ญาดา & 623020732-5\n"
          ]
        }
      ]
    },
    {
      "cell_type": "markdown",
      "source": [
        "## input ของ function แบ่งเป็น 2 ชนิด (จำเป็นต้องใส่ กับ ไม่จำเป็นต้องใส่)"
      ],
      "metadata": {
        "id": "luEg1W6RQDGs"
      }
    },
    {
      "cell_type": "markdown",
      "source": [
        "ตัวอย่าง function print_grade() มี input 3ตัว จำเป็นต้องใส่ 2 ตัว คือ name กับ id และไม่จำเป็นต้องใส่ 1 ตัว คือเกรด ซึ่งมีค่า default เป็น F"
      ],
      "metadata": {
        "id": "lO3bZrG_RA8h"
      }
    },
    {
      "cell_type": "code",
      "source": [
        "def print_grade(name,id,grade = 'F'):\n",
        "      print(f'รหัสประจำตัว {id} ชื่อ {name}')\n",
        "      print(f'ได้เกรด {grade}')"
      ],
      "metadata": {
        "id": "cCDrgvu_QPLg"
      },
      "execution_count": null,
      "outputs": []
    },
    {
      "cell_type": "code",
      "source": [
        "print_grade('อิอิ','623020732-5')"
      ],
      "metadata": {
        "colab": {
          "base_uri": "https://localhost:8080/"
        },
        "id": "6pBrMmeqRkKu",
        "outputId": "d8df9401-1454-4b36-8aee-70c823c7957b"
      },
      "execution_count": null,
      "outputs": [
        {
          "output_type": "stream",
          "name": "stdout",
          "text": [
            "รหัสประจำตัว 623020732-5 ชื่อ อิอิ\n",
            "ได้เกรด F\n"
          ]
        }
      ]
    },
    {
      "cell_type": "code",
      "source": [
        "print_grade('อิอิ','623020732-5','A')"
      ],
      "metadata": {
        "colab": {
          "base_uri": "https://localhost:8080/"
        },
        "id": "Pd4bKwYBR1Y2",
        "outputId": "0c817e50-dbad-4dea-edc2-524f9e074a55"
      },
      "execution_count": null,
      "outputs": [
        {
          "output_type": "stream",
          "name": "stdout",
          "text": [
            "รหัสประจำตัว 623020732-5 ชื่อ อิอิ\n",
            "ได้เกรด A\n"
          ]
        }
      ]
    },
    {
      "cell_type": "code",
      "source": [
        "print_grade(id='623020732-5',name='อิอิ',grade='A')"
      ],
      "metadata": {
        "colab": {
          "base_uri": "https://localhost:8080/"
        },
        "id": "-sulznZRR5YI",
        "outputId": "e5c187bc-8cf8-48bf-a8e5-db1748ee20e3"
      },
      "execution_count": null,
      "outputs": [
        {
          "output_type": "stream",
          "name": "stdout",
          "text": [
            "รหัสประจำตัว 623020732-5 ชื่อ อิอิ\n",
            "ได้เกรด A\n"
          ]
        }
      ]
    },
    {
      "cell_type": "markdown",
      "source": [
        "#Looping (for)"
      ],
      "metadata": {
        "id": "DcQZno9jDjiu"
      }
    },
    {
      "cell_type": "markdown",
      "source": [
        "```python\n",
        "for member in listEx:\n",
        "      do_something()\n",
        "```"
      ],
      "metadata": {
        "id": "hASpAy6dTcQM"
      }
    },
    {
      "cell_type": "code",
      "source": [
        "for member in [1,2,3,4,5,6]:\n",
        "      print(member)"
      ],
      "metadata": {
        "colab": {
          "base_uri": "https://localhost:8080/"
        },
        "id": "4BBqhQLcUNYb",
        "outputId": "fc7e1b57-e0b4-4482-fc2b-9434e0776fea"
      },
      "execution_count": null,
      "outputs": [
        {
          "output_type": "stream",
          "name": "stdout",
          "text": [
            "1\n",
            "2\n",
            "3\n",
            "4\n",
            "5\n",
            "6\n"
          ]
        }
      ]
    },
    {
      "cell_type": "code",
      "source": [
        "def print_name(name):\n",
        "      print(f'ฉันชื่อ {name}')"
      ],
      "metadata": {
        "id": "Cywe0AslU2bU"
      },
      "execution_count": null,
      "outputs": []
    },
    {
      "cell_type": "code",
      "source": [
        "for name in ['ญาดา','อิอิ','เย้','อุอุ','นอน']:\n",
        "      N = name\n",
        "      print_name(N)"
      ],
      "metadata": {
        "colab": {
          "base_uri": "https://localhost:8080/"
        },
        "id": "piX4I8ViVHMc",
        "outputId": "7571a257-1526-4992-af8d-99b06a67574d"
      },
      "execution_count": null,
      "outputs": [
        {
          "output_type": "stream",
          "name": "stdout",
          "text": [
            "ฉันชื่อ ญาดา\n",
            "ฉันชื่อ อิอิ\n",
            "ฉันชื่อ เย้\n",
            "ฉันชื่อ อุอุ\n",
            "ฉันชื่อ นอน\n"
          ]
        }
      ]
    },
    {
      "cell_type": "code",
      "source": [
        "list_name_id_grade = [['อิอิ','12','A'],\n",
        "                      ['บู','27','B+'],\n",
        "                      ['กินอะไรดี','623020799-7','C']]"
      ],
      "metadata": {
        "id": "gv6ajkdZWTi5"
      },
      "execution_count": null,
      "outputs": []
    },
    {
      "cell_type": "code",
      "source": [
        "for each in list_name_id_grade:\n",
        "      name = each[0]\n",
        "      id = each[1]\n",
        "      grade = each[2]\n",
        "      print_grade(name,id,grade)\n",
        "      print('-----------')"
      ],
      "metadata": {
        "colab": {
          "base_uri": "https://localhost:8080/"
        },
        "id": "vN0GGWAOXKLY",
        "outputId": "b1cd24c7-17ca-4787-fc68-087e643c3142"
      },
      "execution_count": null,
      "outputs": [
        {
          "output_type": "stream",
          "name": "stdout",
          "text": [
            "รหัสประจำตัว 12 ชื่อ อิอิ\n",
            "ได้เกรด A\n",
            "-----------\n",
            "รหัสประจำตัว 27 ชื่อ บู\n",
            "ได้เกรด B+\n",
            "-----------\n",
            "รหัสประจำตัว 623020799-7 ชื่อ กินอะไรดี\n",
            "ได้เกรด C\n",
            "-----------\n"
          ]
        }
      ]
    },
    {
      "cell_type": "markdown",
      "source": [
        "## ใช้ for loop เพิ่มสมาชิคใน list"
      ],
      "metadata": {
        "id": "3t2iauS1YY70"
      }
    },
    {
      "cell_type": "code",
      "source": [
        "list_name = []\n",
        "list_id = []\n",
        "list_grade =[]\n",
        "for each in list_name_id_grade:\n",
        "      list_name.append(each[0])\n",
        "      list_id.append(each[1])\n",
        "      list_grade.append(each[2])"
      ],
      "metadata": {
        "id": "Z0lqERvGYkeP"
      },
      "execution_count": null,
      "outputs": []
    },
    {
      "cell_type": "code",
      "source": [
        "list_name"
      ],
      "metadata": {
        "colab": {
          "base_uri": "https://localhost:8080/"
        },
        "id": "csubBoe9ZNBU",
        "outputId": "35394bf2-fb30-43eb-da18-9e99e53b65a9"
      },
      "execution_count": null,
      "outputs": [
        {
          "output_type": "execute_result",
          "data": {
            "text/plain": [
              "['อิอิ', 'บู', 'กินอะไรดี']"
            ]
          },
          "metadata": {},
          "execution_count": 37
        }
      ]
    },
    {
      "cell_type": "markdown",
      "source": [
        "### การวนลูปด้วย `range()`"
      ],
      "metadata": {
        "id": "z3Zjj_cgbYHG"
      }
    },
    {
      "cell_type": "code",
      "source": [
        "for i in range(100):\n",
        "      print('ไม่รู้', end = ' ')"
      ],
      "metadata": {
        "colab": {
          "base_uri": "https://localhost:8080/"
        },
        "id": "qrmjtCeBbkMi",
        "outputId": "5f722c60-9294-4c20-eb0a-9475c0e10102"
      },
      "execution_count": null,
      "outputs": [
        {
          "output_type": "stream",
          "name": "stdout",
          "text": [
            "ไม่รู้ ไม่รู้ ไม่รู้ ไม่รู้ ไม่รู้ ไม่รู้ ไม่รู้ ไม่รู้ ไม่รู้ ไม่รู้ ไม่รู้ ไม่รู้ ไม่รู้ ไม่รู้ ไม่รู้ ไม่รู้ ไม่รู้ ไม่รู้ ไม่รู้ ไม่รู้ ไม่รู้ ไม่รู้ ไม่รู้ ไม่รู้ ไม่รู้ ไม่รู้ ไม่รู้ ไม่รู้ ไม่รู้ ไม่รู้ ไม่รู้ ไม่รู้ ไม่รู้ ไม่รู้ ไม่รู้ ไม่รู้ ไม่รู้ ไม่รู้ ไม่รู้ ไม่รู้ ไม่รู้ ไม่รู้ ไม่รู้ ไม่รู้ ไม่รู้ ไม่รู้ ไม่รู้ ไม่รู้ ไม่รู้ ไม่รู้ ไม่รู้ ไม่รู้ ไม่รู้ ไม่รู้ ไม่รู้ ไม่รู้ ไม่รู้ ไม่รู้ ไม่รู้ ไม่รู้ ไม่รู้ ไม่รู้ ไม่รู้ ไม่รู้ ไม่รู้ ไม่รู้ ไม่รู้ ไม่รู้ ไม่รู้ ไม่รู้ ไม่รู้ ไม่รู้ ไม่รู้ ไม่รู้ ไม่รู้ ไม่รู้ ไม่รู้ ไม่รู้ ไม่รู้ ไม่รู้ ไม่รู้ ไม่รู้ ไม่รู้ ไม่รู้ ไม่รู้ ไม่รู้ ไม่รู้ ไม่รู้ ไม่รู้ ไม่รู้ ไม่รู้ ไม่รู้ ไม่รู้ ไม่รู้ ไม่รู้ ไม่รู้ ไม่รู้ ไม่รู้ ไม่รู้ ไม่รู้ "
          ]
        }
      ]
    },
    {
      "cell_type": "markdown",
      "source": [
        "### Loop ซ้อน Loop"
      ],
      "metadata": {
        "id": "UkXqYjD7cTP6"
      }
    },
    {
      "cell_type": "code",
      "source": [
        "for mem1 in range(2,5): # [2,3,4] loop ที่1\n",
        "      print(f'now mem1= {mem1}')\n",
        "      for mem2 in range(1,13): #[1,2,3,4,5,6,7,8,9,10,11,12] loop ที่2\n",
        "            print(f'{mem1} x {mem2} = {mem1*mem2}')\n",
        "      print(f'end inner for mem1 = {mem1}')"
      ],
      "metadata": {
        "colab": {
          "base_uri": "https://localhost:8080/"
        },
        "id": "Rxt-a-kpcgi9",
        "outputId": "e57f9445-9ffc-4b4c-865f-27877903deb9"
      },
      "execution_count": null,
      "outputs": [
        {
          "output_type": "stream",
          "name": "stdout",
          "text": [
            "now mem1= 2\n",
            "2 x 1 = 2\n",
            "2 x 2 = 4\n",
            "2 x 3 = 6\n",
            "2 x 4 = 8\n",
            "2 x 5 = 10\n",
            "2 x 6 = 12\n",
            "2 x 7 = 14\n",
            "2 x 8 = 16\n",
            "2 x 9 = 18\n",
            "2 x 10 = 20\n",
            "2 x 11 = 22\n",
            "2 x 12 = 24\n",
            "end inner for mem1 = 2\n",
            "now mem1= 3\n",
            "3 x 1 = 3\n",
            "3 x 2 = 6\n",
            "3 x 3 = 9\n",
            "3 x 4 = 12\n",
            "3 x 5 = 15\n",
            "3 x 6 = 18\n",
            "3 x 7 = 21\n",
            "3 x 8 = 24\n",
            "3 x 9 = 27\n",
            "3 x 10 = 30\n",
            "3 x 11 = 33\n",
            "3 x 12 = 36\n",
            "end inner for mem1 = 3\n",
            "now mem1= 4\n",
            "4 x 1 = 4\n",
            "4 x 2 = 8\n",
            "4 x 3 = 12\n",
            "4 x 4 = 16\n",
            "4 x 5 = 20\n",
            "4 x 6 = 24\n",
            "4 x 7 = 28\n",
            "4 x 8 = 32\n",
            "4 x 9 = 36\n",
            "4 x 10 = 40\n",
            "4 x 11 = 44\n",
            "4 x 12 = 48\n",
            "end inner for mem1 = 4\n"
          ]
        }
      ]
    },
    {
      "cell_type": "markdown",
      "source": [
        "### Loop in function"
      ],
      "metadata": {
        "id": "Tdo_ehYbgBF0"
      }
    },
    {
      "cell_type": "code",
      "source": [
        "def print_grade_loop(names,grades) :\n",
        "        for n,g in zip(names,grades):\n",
        "            print(f'{n} ได้เกรด {g}')"
      ],
      "metadata": {
        "id": "jC4ji2MRgF59"
      },
      "execution_count": null,
      "outputs": []
    },
    {
      "cell_type": "code",
      "source": [
        "print_grade_loop(list_name,list_grade)"
      ],
      "metadata": {
        "colab": {
          "base_uri": "https://localhost:8080/"
        },
        "id": "iXKE09a-gFUr",
        "outputId": "9864e1bb-b1a6-4478-f957-08c8425702d9"
      },
      "execution_count": null,
      "outputs": [
        {
          "output_type": "stream",
          "name": "stdout",
          "text": [
            "อิอิ ได้เกรด A\n",
            "บู ได้เกรด B+\n",
            "กินอะไรดี ได้เกรด C\n"
          ]
        }
      ]
    },
    {
      "cell_type": "markdown",
      "source": [
        "### Conditional Statement (if)"
      ],
      "metadata": {
        "id": "_nZNMpqQOHIV"
      }
    },
    {
      "cell_type": "markdown",
      "source": [
        "```python\n",
        "if condition:\n",
        "    do_something() ##ถ้า condition1 เป็นจริง ทำ do_something()\n",
        "elif condition2:\n",
        "    do_another_thing() ##ถ้า condition1 ไม่เป็นจริง ทำ condition2 เป็นจริง ทำ do_another_thing()\n",
        "else:\n",
        "    do_thelast_thing() ##ถ้าไม่มี condition เป็นจริงเลยทำ do_thelast_thing()\n",
        "```\n",
        "\n"
      ],
      "metadata": {
        "id": "Kac0fDWXh9oQ"
      }
    },
    {
      "cell_type": "code",
      "execution_count": null,
      "metadata": {
        "id": "tUGn0F_2DiyT",
        "colab": {
          "base_uri": "https://localhost:8080/"
        },
        "outputId": "32250c22-04aa-49fc-930d-1172276ea5c5"
      },
      "outputs": [
        {
          "output_type": "stream",
          "name": "stdout",
          "text": [
            "อิอิ ได้เกรด F\n",
            "บู ได้เกรด F\n",
            "กินอะไรดี ได้เกรด A\n"
          ]
        }
      ],
      "source": [
        "for n in list_name:\n",
        "        if len(n)>5:\n",
        "            print(f'{n} ได้เกรด A')\n",
        "        else:\n",
        "            print(f'{n} ได้เกรด F')"
      ]
    },
    {
      "cell_type": "markdown",
      "source": [
        "### operator ที่ใช้ตรวจสอบ condition\n",
        "==, !=, >=, <=, <, >, and, or"
      ],
      "metadata": {
        "id": "t4cFOzDBkGQJ"
      }
    },
    {
      "cell_type": "code",
      "source": [
        "a = 10 == 20\n",
        "print(a)"
      ],
      "metadata": {
        "colab": {
          "base_uri": "https://localhost:8080/"
        },
        "id": "lE7Cp4S7j39V",
        "outputId": "24cf82f8-6cf5-4c80-8cf7-ac27c2d3b9d9"
      },
      "execution_count": null,
      "outputs": [
        {
          "output_type": "stream",
          "name": "stdout",
          "text": [
            "False\n"
          ]
        }
      ]
    },
    {
      "cell_type": "code",
      "source": [
        "b = 15 <= 20\n",
        "print(b)"
      ],
      "metadata": {
        "colab": {
          "base_uri": "https://localhost:8080/"
        },
        "id": "UXaOmNsmkhMd",
        "outputId": "af2e68bd-48ae-4c0d-969a-cf5203c2e273"
      },
      "execution_count": null,
      "outputs": [
        {
          "output_type": "stream",
          "name": "stdout",
          "text": [
            "True\n"
          ]
        }
      ]
    },
    {
      "cell_type": "code",
      "source": [
        "if a:\n",
        "    print('X') ##print ไม่ออกเพราะเป็น false"
      ],
      "metadata": {
        "id": "TKD-oCxxkvIo"
      },
      "execution_count": null,
      "outputs": []
    },
    {
      "cell_type": "code",
      "source": [
        "if True:\n",
        "    print('X')"
      ],
      "metadata": {
        "colab": {
          "base_uri": "https://localhost:8080/"
        },
        "id": "pWjnxmadk4yZ",
        "outputId": "e9dbab9a-5570-4d5e-c4a1-41f3abeb66b9"
      },
      "execution_count": null,
      "outputs": [
        {
          "output_type": "stream",
          "name": "stdout",
          "text": [
            "X\n"
          ]
        }
      ]
    },
    {
      "cell_type": "code",
      "source": [
        "if a and b: \n",
        "    print('x') ##print ไม่ออกเพราะเป็น false 1 ตัว"
      ],
      "metadata": {
        "id": "ghyfoFnClJUx"
      },
      "execution_count": null,
      "outputs": []
    },
    {
      "cell_type": "code",
      "source": [
        "if a or b:\n",
        "    print('x')\n"
      ],
      "metadata": {
        "colab": {
          "base_uri": "https://localhost:8080/"
        },
        "id": "XV8JagdVlV4h",
        "outputId": "47a64a33-fc07-4c42-9ee1-325490285f16"
      },
      "execution_count": null,
      "outputs": [
        {
          "output_type": "stream",
          "name": "stdout",
          "text": [
            "x\n"
          ]
        }
      ]
    },
    {
      "cell_type": "markdown",
      "source": [
        "# HW4\n",
        "เขียน function ตัดเกรด โดยที่ input เป็นคะแนน(0-100), output เป็นเกรด (F-A) หรือ 'ไม่สามารถตัดเกรดได้'\n",
        "วนลูปตัดเกรด input = [1,50,65,90,101,-5,49,'ก',80]\n",
        "\n",
        "กำหนด\n",
        "* ถ้าคะแนนอยู่ระหว่างมากกว่าหรือเท่ากับ 0 \n",
        "แต่น้อยกว่า 50 จะได้เกรด F\n",
        "*ถ้าคะแนนอยู่ระหว่างมากกว่าหรือเท่ากับ 50 แต่น้อยกว่า 55 จะได้เกรด D\n",
        "*ถ้าคะแนนอยู่ระหว่างมากกว่าหรือเท่ากับ 55 แต่น้อยกว่า 60 จะได้เกรด D+\n",
        "*ถ้าคะแนนอยู่ระหว่างมากกว่าหรือเท่ากับ 60 แต่น้อยกว่า 65 จะได้เกรด C\n",
        "*ถ้าคะแนนอยู่ระหว่างมากกว่าหรือเท่ากับ 65 แต่น้อยกว่า 70 จะได้เกรด C+\n",
        "*ถ้าคะแนนอยู่ระหว่างมากกว่าหรือเท่ากับ 70 แต่น้อยกว่า 75 จะได้เกรด B\n",
        "*ถ้าคะแนนอยู่ระหว่างมากกว่าหรือเท่ากับ 75 แต่น้อยกว่า 80 จะได้เกรด B+\n",
        "*ถ้าคะแนนอยู่ระหว่างมากกว่าหรือเท่ากับ 80 จะได้เกรด A\n",
        "*ถ้าคะแนนไม่อยู่ในช่วง 0-100 ให้ return 'ไม่สามารถตัดเกรดได้'"
      ],
      "metadata": {
        "id": "KkYHa-bmlrRH"
      }
    },
    {
      "cell_type": "code",
      "source": [
        "input = [1,50,65,90,101,-5,49,'ก',80]\n",
        "print(input)\n",
        "for i in input:\n",
        "    if type(i) == type(\"\"):\n",
        "            print (f'คะแนน {i} ไม่สามารถตัดเกรดได้')\n",
        "    else:\n",
        "        if i >= 101:\n",
        "            print (f'คะแนน {i} ไม่สามารถตัดเกรดได้')\n",
        "        elif i >= 80:\n",
        "            print (f'คะแนน {i} ได้เกรด  A')\n",
        "        elif i >= 75:\n",
        "            print (f'คะแนน {i} ได้เกรด  B+')\n",
        "        elif i >= 70:\n",
        "            print (f'คะแนน {i} ได้เกรด  B')\n",
        "        elif i >= 65:\n",
        "            print (f'คะแนน {i} ได้เกรด  C+')\n",
        "        elif  i >= 60:\n",
        "            print (f'คะแนน {i} ได้เกรด  C')\n",
        "        elif  i >= 55:\n",
        "            print (f'คะแนน {i} ได้เกรด  D+')\n",
        "        elif  i >= 50:\n",
        "            print (f'คะแนน {i} ได้เกรด  D')\n",
        "        elif  i >= 0:\n",
        "            print (f'คะแนน {i} ได้เกรด  F')\n",
        "        else:\n",
        "            print (f'คะแนน {i} ไม่สามารถตัดเกรดได้')\n",
        "    print ('-------------------------------------------')"
      ],
      "metadata": {
        "id": "EI_jzGMclpa6",
        "colab": {
          "base_uri": "https://localhost:8080/"
        },
        "outputId": "aa8e2c76-f4f5-4b20-c9cd-cea875c85501"
      },
      "execution_count": 5,
      "outputs": [
        {
          "output_type": "stream",
          "name": "stdout",
          "text": [
            "[1, 50, 65, 90, 101, -5, 49, 'ก', 80]\n",
            "คะแนน 1 ได้เกรด  F\n",
            "-------------------------------------------\n",
            "คะแนน 50 ได้เกรด  D\n",
            "-------------------------------------------\n",
            "คะแนน 65 ได้เกรด  C+\n",
            "-------------------------------------------\n",
            "คะแนน 90 ได้เกรด  A\n",
            "-------------------------------------------\n",
            "คะแนน 101 ไม่สามารถตัดเกรดได้\n",
            "-------------------------------------------\n",
            "คะแนน -5 ไม่สามารถตัดเกรดได้\n",
            "-------------------------------------------\n",
            "คะแนน 49 ได้เกรด  F\n",
            "-------------------------------------------\n",
            "คะแนน ก ไม่สามารถตัดเกรดได้\n",
            "-------------------------------------------\n",
            "คะแนน 80 ได้เกรด  A\n",
            "-------------------------------------------\n"
          ]
        }
      ]
    }
  ]
}