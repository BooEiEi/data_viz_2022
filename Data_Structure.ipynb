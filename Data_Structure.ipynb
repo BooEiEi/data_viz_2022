{
  "nbformat": 4,
  "nbformat_minor": 0,
  "metadata": {
    "colab": {
      "name": "Data Structure.ipynb",
      "provenance": [],
      "toc_visible": true,
      "authorship_tag": "ABX9TyPoZ4SkAEfkGZjXgqLmyXvd",
      "include_colab_link": true
    },
    "kernelspec": {
      "name": "python3",
      "display_name": "Python 3"
    },
    "language_info": {
      "name": "python"
    }
  },
  "cells": [
    {
      "cell_type": "markdown",
      "metadata": {
        "id": "view-in-github",
        "colab_type": "text"
      },
      "source": [
        "<a href=\"https://colab.research.google.com/github/BooEiEi/data_viz_2022/blob/main/Data_Structure.ipynb\" target=\"_parent\"><img src=\"https://colab.research.google.com/assets/colab-badge.svg\" alt=\"Open In Colab\"/></a>"
      ]
    },
    {
      "cell_type": "markdown",
      "source": [
        "# Data Structure (โครงสร้างข้อมูล)\n",
        "การเก็บข้อมูลหลายๆ ตัวด้วยกันอย่างเป็นระเบียบ"
      ],
      "metadata": {
        "id": "Q0ngTx9D54pD"
      }
    },
    {
      "cell_type": "markdown",
      "source": [
        "## list()\n",
        "- เก็บอะไรก็ได้\n",
        "- ลำดับในการเก็บ มีความสำคัญ"
      ],
      "metadata": {
        "id": "uqxhmGRH6U46"
      }
    },
    {
      "cell_type": "code",
      "execution_count": null,
      "metadata": {
        "id": "78JAE7NXvzyk"
      },
      "outputs": [],
      "source": [
        "list_a = [1,2,3,4,5,6] #[] square brackets"
      ]
    },
    {
      "cell_type": "code",
      "source": [
        "list_a"
      ],
      "metadata": {
        "colab": {
          "base_uri": "https://localhost:8080/"
        },
        "id": "fGYTYPcp6j81",
        "outputId": "0bc91893-2383-4645-f024-bce716ec87f2"
      },
      "execution_count": null,
      "outputs": [
        {
          "output_type": "execute_result",
          "data": {
            "text/plain": [
              "[1, 2, 3, 4, 5, 6]"
            ]
          },
          "metadata": {},
          "execution_count": 2
        }
      ]
    },
    {
      "cell_type": "code",
      "source": [
        "list_b = ['ab',2,3.14,list_a] # สามารถเอาอะไรมาเก็บใน list ก็ได้ เช่น string float"
      ],
      "metadata": {
        "id": "uSm41HQt6mg1"
      },
      "execution_count": null,
      "outputs": []
    },
    {
      "cell_type": "code",
      "source": [
        "list_b"
      ],
      "metadata": {
        "colab": {
          "base_uri": "https://localhost:8080/"
        },
        "id": "lum3_wgT7DNW",
        "outputId": "e0fc4506-acf8-4702-f7fe-76d7bff21800"
      },
      "execution_count": null,
      "outputs": [
        {
          "output_type": "execute_result",
          "data": {
            "text/plain": [
              "['ab', 2, 3.14, [1, 2, 3, 4, 5, 6]]"
            ]
          },
          "metadata": {},
          "execution_count": 14
        }
      ]
    },
    {
      "cell_type": "markdown",
      "source": [
        "## indexing การชี้สามชิกใน list ด้วยเลขลำดับของ list"
      ],
      "metadata": {
        "id": "4rCU7Zik8P0x"
      }
    },
    {
      "cell_type": "code",
      "source": [
        "list_a[3]  #ลำดับเริ่มจาก 0"
      ],
      "metadata": {
        "colab": {
          "base_uri": "https://localhost:8080/"
        },
        "id": "THF3KFyI7QzU",
        "outputId": "6cc48f1a-1a83-4275-b94d-7657b6391390"
      },
      "execution_count": null,
      "outputs": [
        {
          "output_type": "execute_result",
          "data": {
            "text/plain": [
              "4"
            ]
          },
          "metadata": {},
          "execution_count": 16
        }
      ]
    },
    {
      "cell_type": "code",
      "source": [
        "list_b[3]"
      ],
      "metadata": {
        "colab": {
          "base_uri": "https://localhost:8080/"
        },
        "id": "mwpiaa0l7hva",
        "outputId": "5f64613b-f3f9-43dc-de22-c8c828b8218b"
      },
      "execution_count": null,
      "outputs": [
        {
          "output_type": "execute_result",
          "data": {
            "text/plain": [
              "[1, 2, 3, 4, 5, 6]"
            ]
          },
          "metadata": {},
          "execution_count": 13
        }
      ]
    },
    {
      "cell_type": "code",
      "source": [
        "list_b[3][4]"
      ],
      "metadata": {
        "colab": {
          "base_uri": "https://localhost:8080/"
        },
        "id": "l9hIfzFj701I",
        "outputId": "f92c0cfa-ee75-489d-b3bc-5d50eb503e57"
      },
      "execution_count": null,
      "outputs": [
        {
          "output_type": "execute_result",
          "data": {
            "text/plain": [
              "5"
            ]
          },
          "metadata": {},
          "execution_count": 15
        }
      ]
    },
    {
      "cell_type": "code",
      "source": [
        "list _a[6] #ไม่มีข้อมูลตำแหน่งที่ 6 ทำให้ error"
      ],
      "metadata": {
        "colab": {
          "base_uri": "https://localhost:8080/",
          "height": 132
        },
        "id": "uFA66v_78Ino",
        "outputId": "7f887f47-2d58-434e-ca3d-708be65de52b"
      },
      "execution_count": null,
      "outputs": [
        {
          "output_type": "error",
          "ename": "SyntaxError",
          "evalue": "ignored",
          "traceback": [
            "\u001b[0;36m  File \u001b[0;32m\"<ipython-input-17-c80c958eb4f4>\"\u001b[0;36m, line \u001b[0;32m1\u001b[0m\n\u001b[0;31m    list _a[6]\u001b[0m\n\u001b[0m          ^\u001b[0m\n\u001b[0;31mSyntaxError\u001b[0m\u001b[0;31m:\u001b[0m invalid syntax\n"
          ]
        }
      ]
    },
    {
      "cell_type": "code",
      "source": [
        "list_a[-1] # index -1 คือตัวสุดท้ายของ list"
      ],
      "metadata": {
        "colab": {
          "base_uri": "https://localhost:8080/"
        },
        "id": "uE87AMtB87o6",
        "outputId": "ed459851-8e68-40aa-b5fc-b8230e6ab24c"
      },
      "execution_count": null,
      "outputs": [
        {
          "output_type": "execute_result",
          "data": {
            "text/plain": [
              "6"
            ]
          },
          "metadata": {},
          "execution_count": 18
        }
      ]
    },
    {
      "cell_type": "code",
      "source": [
        "list_a[-2] # indexติดลบ คือแสดงข้อมูลจากหลังมาหน้า"
      ],
      "metadata": {
        "colab": {
          "base_uri": "https://localhost:8080/"
        },
        "id": "m4vPYQQ19VK8",
        "outputId": "26b431dc-9aa7-40c8-ecb9-6c06e65f5f13"
      },
      "execution_count": null,
      "outputs": [
        {
          "output_type": "execute_result",
          "data": {
            "text/plain": [
              "5"
            ]
          },
          "metadata": {},
          "execution_count": 21
        }
      ]
    },
    {
      "cell_type": "markdown",
      "source": [
        "### การสร้าง list()"
      ],
      "metadata": {
        "id": "sYL1s3HY9sD-"
      }
    },
    {
      "cell_type": "code",
      "source": [
        "list_x1 = [] # แบบที่ 1\n",
        "list_x2 = list() # แบบที่2"
      ],
      "metadata": {
        "id": "sCpJ5T0x9aRw"
      },
      "execution_count": null,
      "outputs": []
    },
    {
      "cell_type": "code",
      "source": [
        "print(list_x1)\n",
        "print(list_x2)"
      ],
      "metadata": {
        "colab": {
          "base_uri": "https://localhost:8080/"
        },
        "id": "VDOxbMoH99tV",
        "outputId": "f795b92d-a23b-4fc2-eb3f-d536c11ac7cb"
      },
      "execution_count": null,
      "outputs": [
        {
          "output_type": "stream",
          "name": "stdout",
          "text": [
            "[]\n",
            "[]\n"
          ]
        }
      ]
    },
    {
      "cell_type": "markdown",
      "source": [
        "### เพิ่มสมาชิกเข้าไปใน list ด้วย append()"
      ],
      "metadata": {
        "id": "SPuKk8oM-Nya"
      }
    },
    {
      "cell_type": "code",
      "source": [
        "list_x1.append(2)"
      ],
      "metadata": {
        "id": "uG8f94m5-Jjr"
      },
      "execution_count": null,
      "outputs": []
    },
    {
      "cell_type": "code",
      "source": [
        "list_x1"
      ],
      "metadata": {
        "colab": {
          "base_uri": "https://localhost:8080/"
        },
        "id": "AiD6_YXP-mBc",
        "outputId": "4163057a-51c0-4bc8-c81c-a860a0f578eb"
      },
      "execution_count": null,
      "outputs": [
        {
          "output_type": "execute_result",
          "data": {
            "text/plain": [
              "[2]"
            ]
          },
          "metadata": {},
          "execution_count": 25
        }
      ]
    },
    {
      "cell_type": "code",
      "source": [
        "list_x1.append(4)\n",
        "print(list_x1)"
      ],
      "metadata": {
        "colab": {
          "base_uri": "https://localhost:8080/"
        },
        "id": "e4xOs9eh-puf",
        "outputId": "206ccf3f-e523-469c-9b68-67b67f9ed36a"
      },
      "execution_count": null,
      "outputs": [
        {
          "output_type": "stream",
          "name": "stdout",
          "text": [
            "[2, 4]\n"
          ]
        }
      ]
    },
    {
      "cell_type": "code",
      "source": [
        "list_x1[0]"
      ],
      "metadata": {
        "colab": {
          "base_uri": "https://localhost:8080/"
        },
        "id": "x1CdRD6l-_Rz",
        "outputId": "be718a5f-4929-4ae3-8ebb-1fb6fb6dfc55"
      },
      "execution_count": null,
      "outputs": [
        {
          "output_type": "execute_result",
          "data": {
            "text/plain": [
              "2"
            ]
          },
          "metadata": {},
          "execution_count": 27
        }
      ]
    },
    {
      "cell_type": "code",
      "source": [
        "list_x1[-1]"
      ],
      "metadata": {
        "colab": {
          "base_uri": "https://localhost:8080/"
        },
        "id": "_gSOPByk_EkR",
        "outputId": "759542de-0cde-4cc6-951e-0416af4fbda2"
      },
      "execution_count": null,
      "outputs": [
        {
          "output_type": "execute_result",
          "data": {
            "text/plain": [
              "4"
            ]
          },
          "metadata": {},
          "execution_count": 28
        }
      ]
    },
    {
      "cell_type": "markdown",
      "source": [
        "### ลบสมาชิกจาก list"
      ],
      "metadata": {
        "id": "-l561qTLAPYR"
      }
    },
    {
      "cell_type": "code",
      "source": [
        "list_x2.append('ha') "
      ],
      "metadata": {
        "id": "inCG9SUY_Ig2"
      },
      "execution_count": null,
      "outputs": []
    },
    {
      "cell_type": "code",
      "source": [
        "list_x2 #รัน2 ครั้ง ข้อมูลในlist เพิ่มขึ้น"
      ],
      "metadata": {
        "colab": {
          "base_uri": "https://localhost:8080/"
        },
        "id": "4Hc2EFCCADSr",
        "outputId": "810077b9-c850-4f6e-db9e-d774f5dd516d"
      },
      "execution_count": null,
      "outputs": [
        {
          "output_type": "execute_result",
          "data": {
            "text/plain": [
              "['ha', 'ha']"
            ]
          },
          "metadata": {},
          "execution_count": 32
        }
      ]
    },
    {
      "cell_type": "code",
      "source": [
        "list_x2.pop() # pop คือลบตัวหลังสุดออก"
      ],
      "metadata": {
        "colab": {
          "base_uri": "https://localhost:8080/",
          "height": 35
        },
        "id": "AMfRCwb6AGIk",
        "outputId": "6e4ba3ee-8e1b-43c0-8474-e3fc02e9d9ed"
      },
      "execution_count": null,
      "outputs": [
        {
          "output_type": "execute_result",
          "data": {
            "application/vnd.google.colaboratory.intrinsic+json": {
              "type": "string"
            },
            "text/plain": [
              "'ha'"
            ]
          },
          "metadata": {},
          "execution_count": 33
        }
      ]
    },
    {
      "cell_type": "code",
      "source": [
        "list_x2\n",
        "print(list_x2)"
      ],
      "metadata": {
        "colab": {
          "base_uri": "https://localhost:8080/"
        },
        "id": "ZdQZh_HxAbwE",
        "outputId": "9a560d91-16eb-492a-90ee-c778b9e6d474"
      },
      "execution_count": null,
      "outputs": [
        {
          "output_type": "stream",
          "name": "stdout",
          "text": [
            "['ha']\n"
          ]
        }
      ]
    },
    {
      "cell_type": "code",
      "source": [
        "list_x1\n",
        "print(list_x1)"
      ],
      "metadata": {
        "colab": {
          "base_uri": "https://localhost:8080/"
        },
        "id": "m8UPahzkBDLh",
        "outputId": "40e075d9-2506-456c-ecc5-8bf45a2783e1"
      },
      "execution_count": null,
      "outputs": [
        {
          "output_type": "stream",
          "name": "stdout",
          "text": [
            "[2, 4]\n"
          ]
        }
      ]
    },
    {
      "cell_type": "markdown",
      "source": [
        "### len() ตรวจสอบจำนวนสมาชิกของ list"
      ],
      "metadata": {
        "id": "rQW4uu-SCAkk"
      }
    },
    {
      "cell_type": "code",
      "source": [
        "print(list_b)\n",
        "print(len(list_b))"
      ],
      "metadata": {
        "colab": {
          "base_uri": "https://localhost:8080/"
        },
        "id": "42rjlb7LBa8U",
        "outputId": "6a79f647-36b9-4765-fb22-12f91b40e09f"
      },
      "execution_count": null,
      "outputs": [
        {
          "output_type": "stream",
          "name": "stdout",
          "text": [
            "['ab', 2, 3.14, [1, 2, 3, 4, 5, 6]]\n",
            "4\n"
          ]
        }
      ]
    },
    {
      "cell_type": "code",
      "source": [
        "len(list_a)"
      ],
      "metadata": {
        "colab": {
          "base_uri": "https://localhost:8080/"
        },
        "id": "x0Vz3DxICSGy",
        "outputId": "93cf4722-fe80-4e7d-bc3a-52e916bb7c24"
      },
      "execution_count": null,
      "outputs": [
        {
          "output_type": "execute_result",
          "data": {
            "text/plain": [
              "6"
            ]
          },
          "metadata": {},
          "execution_count": 41
        }
      ]
    },
    {
      "cell_type": "markdown",
      "source": [
        "### string is a list of characters"
      ],
      "metadata": {
        "id": "o8MEKzwLCfT8"
      }
    },
    {
      "cell_type": "code",
      "source": [
        "st_stat = 'Department of Statistics, Faculty of Science'"
      ],
      "metadata": {
        "id": "EE1aW5_hCVl8"
      },
      "execution_count": null,
      "outputs": []
    },
    {
      "cell_type": "code",
      "source": [
        "st_stat[10]"
      ],
      "metadata": {
        "colab": {
          "base_uri": "https://localhost:8080/",
          "height": 35
        },
        "id": "5LUBghcJDFik",
        "outputId": "2240afd2-ea58-4d18-9f0f-3f7511ced55f"
      },
      "execution_count": null,
      "outputs": [
        {
          "output_type": "execute_result",
          "data": {
            "application/vnd.google.colaboratory.intrinsic+json": {
              "type": "string"
            },
            "text/plain": [
              "' '"
            ]
          },
          "metadata": {},
          "execution_count": 44
        }
      ]
    },
    {
      "cell_type": "code",
      "source": [
        "len(st_stat)"
      ],
      "metadata": {
        "colab": {
          "base_uri": "https://localhost:8080/"
        },
        "id": "QuPbyyfeDJR0",
        "outputId": "81552216-2a9b-4a04-abd4-b43b2018d5fe"
      },
      "execution_count": null,
      "outputs": [
        {
          "output_type": "execute_result",
          "data": {
            "text/plain": [
              "44"
            ]
          },
          "metadata": {},
          "execution_count": 45
        }
      ]
    },
    {
      "cell_type": "markdown",
      "source": [
        "### List Slicing ' : '"
      ],
      "metadata": {
        "id": "xn6D8RdvDa-G"
      }
    },
    {
      "cell_type": "markdown",
      "source": [
        "- list[จุดเริ่มต้น (ทึบ):จุดสุดท้าย (โปร่ง)]\n",
        "- list[จุดเริ่มต้น (ทึบ):จุดสุดท้าย (โปร่ง):step]"
      ],
      "metadata": {
        "id": "Q24Y-J6WEWBA"
      }
    },
    {
      "cell_type": "code",
      "source": [
        "list_a "
      ],
      "metadata": {
        "colab": {
          "base_uri": "https://localhost:8080/"
        },
        "id": "YCYsruHvDQvJ",
        "outputId": "c7e37f6e-82ec-421a-97c7-68900f45a144"
      },
      "execution_count": null,
      "outputs": [
        {
          "output_type": "execute_result",
          "data": {
            "text/plain": [
              "[1, 2, 3, 4, 5, 6]"
            ]
          },
          "metadata": {},
          "execution_count": 46
        }
      ]
    },
    {
      "cell_type": "code",
      "source": [
        "list_a[2]"
      ],
      "metadata": {
        "colab": {
          "base_uri": "https://localhost:8080/"
        },
        "id": "LCf18pmODw6N",
        "outputId": "c45e3a35-4dd0-4fc3-850a-a504de9316a6"
      },
      "execution_count": null,
      "outputs": [
        {
          "output_type": "execute_result",
          "data": {
            "text/plain": [
              "3"
            ]
          },
          "metadata": {},
          "execution_count": 47
        }
      ]
    },
    {
      "cell_type": "markdown",
      "source": [
        "#### : colon"
      ],
      "metadata": {
        "id": "yf31wTIJG275"
      }
    },
    {
      "cell_type": "code",
      "source": [
        "list_a[-3:] # : colon อยากได้ส่วนหนึ่งของ list ที่ไม่ใช่ 1 ตัว ใช้colon ใช้-3 ก็เรียงข้อมูลจากหน้าไปหลังอยู่ดี"
      ],
      "metadata": {
        "colab": {
          "base_uri": "https://localhost:8080/"
        },
        "id": "CY2k-0VGD4Tg",
        "outputId": "fa4e8c12-df9e-4aa1-f9a7-5af28225bd9a"
      },
      "execution_count": null,
      "outputs": [
        {
          "output_type": "execute_result",
          "data": {
            "text/plain": [
              "[4, 5, 6]"
            ]
          },
          "metadata": {},
          "execution_count": 49
        }
      ]
    },
    {
      "cell_type": "code",
      "source": [
        "list_a[:4]"
      ],
      "metadata": {
        "colab": {
          "base_uri": "https://localhost:8080/"
        },
        "id": "cBJELq0jGcQb",
        "outputId": "0a451e6f-1f4f-4b57-a208-3dbaed02aa9b"
      },
      "execution_count": null,
      "outputs": [
        {
          "output_type": "execute_result",
          "data": {
            "text/plain": [
              "[1, 2, 3, 4]"
            ]
          },
          "metadata": {},
          "execution_count": 51
        }
      ]
    },
    {
      "cell_type": "code",
      "source": [
        "list_a[1:4]"
      ],
      "metadata": {
        "colab": {
          "base_uri": "https://localhost:8080/"
        },
        "id": "ns-uAsq6ERan",
        "outputId": "53c2340b-40f4-4046-fd41-f04a4be502df"
      },
      "execution_count": null,
      "outputs": [
        {
          "output_type": "execute_result",
          "data": {
            "text/plain": [
              "[2, 3, 4]"
            ]
          },
          "metadata": {},
          "execution_count": 50
        }
      ]
    },
    {
      "cell_type": "code",
      "source": [
        "list_a[:] #ไม่ใส่อะไรคือเอาทุกตัว"
      ],
      "metadata": {
        "colab": {
          "base_uri": "https://localhost:8080/"
        },
        "id": "8WwtwgwiFwXx",
        "outputId": "dbcda660-6cab-4a34-fb3c-21cbdbba1e96"
      },
      "execution_count": null,
      "outputs": [
        {
          "output_type": "execute_result",
          "data": {
            "text/plain": [
              "[1, 2, 3, 4, 5, 6]"
            ]
          },
          "metadata": {},
          "execution_count": 52
        }
      ]
    },
    {
      "cell_type": "markdown",
      "source": [
        "#### step"
      ],
      "metadata": {
        "id": "C2kKfq--GwQb"
      }
    },
    {
      "cell_type": "code",
      "source": [
        "list_c = [1,2,3,4,5,6,7,8,9,10,11,12,13]"
      ],
      "metadata": {
        "id": "ehg6oCdtGsFD"
      },
      "execution_count": null,
      "outputs": []
    },
    {
      "cell_type": "code",
      "source": [
        "list_c[:10:] #ใส่ colonหน้าหลังคือเอาตัวที่10 ด้วย"
      ],
      "metadata": {
        "colab": {
          "base_uri": "https://localhost:8080/"
        },
        "id": "u1w1U4FnHAFY",
        "outputId": "66aaa3c5-e51b-4687-aaba-a26972bdb748"
      },
      "execution_count": null,
      "outputs": [
        {
          "output_type": "execute_result",
          "data": {
            "text/plain": [
              "[1, 2, 3, 4, 5, 6, 7, 8, 9, 10]"
            ]
          },
          "metadata": {},
          "execution_count": 55
        }
      ]
    },
    {
      "cell_type": "code",
      "source": [
        "list_c[:10:2] # หลัง colon ตัวสุดท้ายคือตัวที่1กับตัวที่2 ต่างกัน2หน่วย ไปเรื่อยๆ"
      ],
      "metadata": {
        "colab": {
          "base_uri": "https://localhost:8080/"
        },
        "id": "YpiUZn2vHSIE",
        "outputId": "bc513177-69d2-478f-a723-800e0454d15e"
      },
      "execution_count": null,
      "outputs": [
        {
          "output_type": "execute_result",
          "data": {
            "text/plain": [
              "[1, 3, 5, 7, 9]"
            ]
          },
          "metadata": {},
          "execution_count": 58
        }
      ]
    },
    {
      "cell_type": "code",
      "source": [
        "list_c[::-1]"
      ],
      "metadata": {
        "colab": {
          "base_uri": "https://localhost:8080/"
        },
        "id": "aW-W0ilhHive",
        "outputId": "cf8ebe85-1a9f-4665-ea26-045526209189"
      },
      "execution_count": null,
      "outputs": [
        {
          "output_type": "execute_result",
          "data": {
            "text/plain": [
              "[13, 12, 11, 10, 9, 8, 7, 6, 5, 4, 3, 2, 1]"
            ]
          },
          "metadata": {},
          "execution_count": 57
        }
      ]
    },
    {
      "cell_type": "markdown",
      "source": [
        "### range()"
      ],
      "metadata": {
        "id": "vVaPHQ0XIARG"
      }
    },
    {
      "cell_type": "code",
      "source": [
        "range(21)"
      ],
      "metadata": {
        "colab": {
          "base_uri": "https://localhost:8080/"
        },
        "id": "4kXDHOo9IOvF",
        "outputId": "e847e5c9-8d3c-47c6-de6b-b895b7062464"
      },
      "execution_count": null,
      "outputs": [
        {
          "output_type": "execute_result",
          "data": {
            "text/plain": [
              "range(0, 21)"
            ]
          },
          "metadata": {},
          "execution_count": 61
        }
      ]
    },
    {
      "cell_type": "code",
      "source": [
        "a = list(range(21))"
      ],
      "metadata": {
        "id": "aoP5Fq3VHmgo"
      },
      "execution_count": null,
      "outputs": []
    },
    {
      "cell_type": "code",
      "source": [
        "a"
      ],
      "metadata": {
        "colab": {
          "base_uri": "https://localhost:8080/"
        },
        "id": "3U9GSQZMIJc1",
        "outputId": "8c25ca6c-7e7a-4abd-deb7-a89520ef3ade"
      },
      "execution_count": null,
      "outputs": [
        {
          "output_type": "execute_result",
          "data": {
            "text/plain": [
              "[0, 1, 2, 3, 4, 5, 6, 7, 8, 9, 10, 11, 12, 13, 14, 15, 16, 17, 18, 19, 20]"
            ]
          },
          "metadata": {},
          "execution_count": 60
        }
      ]
    },
    {
      "cell_type": "code",
      "source": [
        "list(range(1,21))"
      ],
      "metadata": {
        "colab": {
          "base_uri": "https://localhost:8080/"
        },
        "id": "6qot4KKjIKvr",
        "outputId": "e7678530-a7f6-47c4-d5f5-968b9a8265a8"
      },
      "execution_count": null,
      "outputs": [
        {
          "output_type": "execute_result",
          "data": {
            "text/plain": [
              "[1, 2, 3, 4, 5, 6, 7, 8, 9, 10, 11, 12, 13, 14, 15, 16, 17, 18, 19, 20]"
            ]
          },
          "metadata": {},
          "execution_count": 63
        }
      ]
    },
    {
      "cell_type": "markdown",
      "source": [
        "## HW2 คำนวณเวลาเป็นวินาทีของเวลาต่อไปนี้โดยใช้คำสั่ง split() ช่วย (print ออกมาให้สวยงาม)\n",
        "- 12:30:15\n",
        "- 13:41:07\n",
        "- 09:11:50\n",
        "- 21:30:15\n",
        "- 03:10:15"
      ],
      "metadata": {
        "id": "cPyGpg8FJLg6"
      }
    },
    {
      "cell_type": "code",
      "source": [
        "#ตัวอย่าง 01:02:03 \n",
        "\n",
        "a = (1*60*60) + (2*60) +3\n",
        "print(f'01:02:03 แบ่งเป็นวินาทีได้ {a} วินาที')"
      ],
      "metadata": {
        "colab": {
          "base_uri": "https://localhost:8080/"
        },
        "id": "iMvTopbjJAXp",
        "outputId": "9f4fa17f-1cbc-4a87-eced-309344c83332"
      },
      "execution_count": null,
      "outputs": [
        {
          "output_type": "stream",
          "name": "stdout",
          "text": [
            "01:02:03 แบ่งเป็นวินาทีได้ 3723 วินาที\n"
          ]
        }
      ]
    },
    {
      "cell_type": "code",
      "source": [
        "#12:30:15\n",
        "b = '12:30:15'\n",
        "list_b = b.split(':')\n",
        "b1 = (int(list_b[0])*60*60) + (int(list_b[1])*60) +int(list_b[2])\n",
        "print(f'เวลา 21:30:15 สามารถแบ่งเป็นวินาทีได้ {b1} วินาที')"
      ],
      "metadata": {
        "colab": {
          "base_uri": "https://localhost:8080/"
        },
        "id": "plz6AjdHKDqz",
        "outputId": "c3721631-0de9-4289-b72a-db018696c6a3"
      },
      "execution_count": null,
      "outputs": [
        {
          "output_type": "stream",
          "name": "stdout",
          "text": [
            "เวลา 21:30:15 สามารถแบ่งเป็นวินาทีได้ 45015 วินาที\n"
          ]
        }
      ]
    },
    {
      "cell_type": "code",
      "source": [
        "#13:41:07\n",
        "c = '13:41:07'\n",
        "list_c = c.split(':')\n",
        "c1 = (int(list_c[0])*60*60) + (int(list_c[1])*60) +int(list_c[2])\n",
        "print(f'เวลา 21:30:15 สามารถแบ่งเป็นวินาทีได้ {c1} วินาที')"
      ],
      "metadata": {
        "colab": {
          "base_uri": "https://localhost:8080/"
        },
        "id": "MYd2UKBthniV",
        "outputId": "8724e275-0746-43ae-9b61-ba678279214b"
      },
      "execution_count": null,
      "outputs": [
        {
          "output_type": "stream",
          "name": "stdout",
          "text": [
            "เวลา 21:30:15 สามารถแบ่งเป็นวินาทีได้ 49267 วินาที\n"
          ]
        }
      ]
    },
    {
      "cell_type": "code",
      "source": [
        "#09:11:50\n",
        "d = '09:11:50'\n",
        "list_d = d.split(':')\n",
        "d1 = (int(list_d[0])*60*60) + (int(list_d[1])*60) +int(list_d[2])\n",
        "print(f'เวลา 21:30:15 สามารถแบ่งเป็นวินาทีได้ {d1} วินาที')"
      ],
      "metadata": {
        "colab": {
          "base_uri": "https://localhost:8080/"
        },
        "id": "sNssGwiUkN-7",
        "outputId": "4379786c-da80-4ac6-a169-359cd63f34fc"
      },
      "execution_count": null,
      "outputs": [
        {
          "output_type": "stream",
          "name": "stdout",
          "text": [
            "เวลา 21:30:15 สามารถแบ่งเป็นวินาทีได้ 33110 วินาที\n"
          ]
        }
      ]
    },
    {
      "cell_type": "code",
      "source": [
        "#21:30:15\n",
        "e = '21:30:15'\n",
        "list_e = e.split(':')\n",
        "e1 = (int(list_e[0])*60*60) + (int(list_e[1])*60) +int(list_e[2])\n",
        "print(f'เวลา 21:30:15 สามารถแบ่งเป็นวินาทีได้ {e1} วินาที')"
      ],
      "metadata": {
        "colab": {
          "base_uri": "https://localhost:8080/"
        },
        "id": "oDOJyydLkPeR",
        "outputId": "d78f44ac-3c0a-4a56-dc5c-06ebe6e89142"
      },
      "execution_count": null,
      "outputs": [
        {
          "output_type": "stream",
          "name": "stdout",
          "text": [
            "เวลา 21:30:15 สามารถแบ่งเป็นวินาทีได้ 77415 วินาที\n"
          ]
        }
      ]
    },
    {
      "cell_type": "code",
      "source": [
        "#03:10:15\n",
        "f = '03:10:15'\n",
        "list_f = f.split(':')\n",
        "f1 = (int(list_f[0])*60*60) + (int(list_f[1])*60) +int(list_f[2])\n",
        "print(f'เวลา 21:30:15 สามารถแบ่งเป็นวินาทีได้ {f1} วินาที')"
      ],
      "metadata": {
        "colab": {
          "base_uri": "https://localhost:8080/"
        },
        "id": "Au_5OuNgkQkk",
        "outputId": "76b65b7d-ef66-47f1-8300-aa189049cd21"
      },
      "execution_count": null,
      "outputs": [
        {
          "output_type": "stream",
          "name": "stdout",
          "text": [
            "เวลา 21:30:15 สามารถแบ่งเป็นวินาทีได้ 11415 วินาที\n"
          ]
        }
      ]
    },
    {
      "cell_type": "code",
      "source": [
        "#ลองทำ\n",
        "str1 = \"1 3 5 7 9\"\n",
        "list1 = str1.split()\n",
        "print(int(list1[1])*3)"
      ],
      "metadata": {
        "colab": {
          "base_uri": "https://localhost:8080/"
        },
        "id": "-LM3kMOQkRLg",
        "outputId": "723a3a99-3273-4433-e8c9-6bba767e28c9"
      },
      "execution_count": null,
      "outputs": [
        {
          "output_type": "stream",
          "name": "stdout",
          "text": [
            "9\n"
          ]
        }
      ]
    },
    {
      "cell_type": "markdown",
      "source": [
        "## Dictionary"
      ],
      "metadata": {
        "id": "zPK5u7evMNgu"
      }
    },
    {
      "cell_type": "markdown",
      "source": [
        "- คล้าย list()\n",
        "- index เป็นอะไรก็ได้ ไม่จำเป็นต้องเป็นตัวลำดับ\n",
        "- ลำดับไม่มีความสำคัญ"
      ],
      "metadata": {
        "id": "AiI2XHfuPP6d"
      }
    },
    {
      "cell_type": "markdown",
      "source": [
        "### สร้าง Dictionary"
      ],
      "metadata": {
        "id": "tqqpros4Q7Sr"
      }
    },
    {
      "cell_type": "markdown",
      "source": [
        "### การชี้ สมาชิกใน DIctionary"
      ],
      "metadata": {
        "id": "X14WcT-3RCh-"
      }
    },
    {
      "cell_type": "code",
      "source": [
        "dict_a = {1:'Happy','N':'New','2022':'Year'} # { }  curly brackets"
      ],
      "metadata": {
        "id": "SyDJ8bkBPEyF"
      },
      "execution_count": 1,
      "outputs": []
    },
    {
      "cell_type": "code",
      "source": [
        "dict_a[1]"
      ],
      "metadata": {
        "colab": {
          "base_uri": "https://localhost:8080/",
          "height": 35
        },
        "id": "KRuMZX46QOJM",
        "outputId": "fe24be40-665a-462b-a438-0c06f8158775"
      },
      "execution_count": 2,
      "outputs": [
        {
          "output_type": "execute_result",
          "data": {
            "application/vnd.google.colaboratory.intrinsic+json": {
              "type": "string"
            },
            "text/plain": [
              "'Happy'"
            ]
          },
          "metadata": {},
          "execution_count": 2
        }
      ]
    },
    {
      "cell_type": "code",
      "source": [
        "dict_a['N']"
      ],
      "metadata": {
        "colab": {
          "base_uri": "https://localhost:8080/",
          "height": 35
        },
        "id": "wYVDLL7OQTpy",
        "outputId": "8ea39b90-244d-4cbd-926a-6becb2f7ecb9"
      },
      "execution_count": 3,
      "outputs": [
        {
          "output_type": "execute_result",
          "data": {
            "application/vnd.google.colaboratory.intrinsic+json": {
              "type": "string"
            },
            "text/plain": [
              "'New'"
            ]
          },
          "metadata": {},
          "execution_count": 3
        }
      ]
    },
    {
      "cell_type": "code",
      "source": [
        "dict_a[\"2022\"]"
      ],
      "metadata": {
        "colab": {
          "base_uri": "https://localhost:8080/",
          "height": 35
        },
        "id": "I0x51ZzQQW3I",
        "outputId": "b0f3df92-f49a-4e4f-c784-03e378e3c8b8"
      },
      "execution_count": 4,
      "outputs": [
        {
          "output_type": "execute_result",
          "data": {
            "application/vnd.google.colaboratory.intrinsic+json": {
              "type": "string"
            },
            "text/plain": [
              "'Year'"
            ]
          },
          "metadata": {},
          "execution_count": 4
        }
      ]
    },
    {
      "cell_type": "code",
      "source": [
        "dict_a.keys() #.keys() เรียกดูสมาชิกทั้งหมดว่ามี index อะไรบ้าง"
      ],
      "metadata": {
        "colab": {
          "base_uri": "https://localhost:8080/"
        },
        "id": "yog7r-MHQjO2",
        "outputId": "0bc4d702-c0f7-4c70-a0fe-b9ced39832af"
      },
      "execution_count": 5,
      "outputs": [
        {
          "output_type": "execute_result",
          "data": {
            "text/plain": [
              "dict_keys([1, 'N', '2022'])"
            ]
          },
          "metadata": {},
          "execution_count": 5
        }
      ]
    },
    {
      "cell_type": "code",
      "source": [
        "dict_a.values() # .values() บอกค่าที่อยู่ใน dict"
      ],
      "metadata": {
        "colab": {
          "base_uri": "https://localhost:8080/"
        },
        "id": "FWDl80QhRgwm",
        "outputId": "857e0270-7c31-4442-f95f-1c47d0ba2397"
      },
      "execution_count": 9,
      "outputs": [
        {
          "output_type": "execute_result",
          "data": {
            "text/plain": [
              "dict_values(['Happy', 'New', 'Year', 3.14])"
            ]
          },
          "metadata": {},
          "execution_count": 9
        }
      ]
    },
    {
      "cell_type": "markdown",
      "source": [
        "### การเพิ่มสมาชิกลงไปใน DIctionary"
      ],
      "metadata": {
        "id": "F9wBg4-0ROdf"
      }
    },
    {
      "cell_type": "code",
      "source": [
        "dict_a[7] = 3.14"
      ],
      "metadata": {
        "id": "3YlEcCzpRpKW"
      },
      "execution_count": 10,
      "outputs": []
    },
    {
      "cell_type": "code",
      "source": [
        "dict_a"
      ],
      "metadata": {
        "colab": {
          "base_uri": "https://localhost:8080/"
        },
        "id": "kehO9r0KRawq",
        "outputId": "42591c24-7666-45b8-f266-f09cbcb5d607"
      },
      "execution_count": 7,
      "outputs": [
        {
          "output_type": "execute_result",
          "data": {
            "text/plain": [
              "{1: 'Happy', '2022': 'Year', 7: 3.14, 'N': 'New'}"
            ]
          },
          "metadata": {},
          "execution_count": 7
        }
      ]
    },
    {
      "cell_type": "code",
      "source": [
        "dict_a[\"N\"] = \"NNNNEWWWW\""
      ],
      "metadata": {
        "id": "ZatWE_c_RtwF"
      },
      "execution_count": 12,
      "outputs": []
    },
    {
      "cell_type": "code",
      "source": [
        "dict_a # เมื่อใช้ index ซ้ำมันค่าบันทึกค่าใหม่แทนที่ค่าเดิม"
      ],
      "metadata": {
        "colab": {
          "base_uri": "https://localhost:8080/"
        },
        "id": "Q7tr6pu6R1EZ",
        "outputId": "9a8a3a78-2fc6-40d1-c7bc-274a4c33d3cc"
      },
      "execution_count": 13,
      "outputs": [
        {
          "output_type": "execute_result",
          "data": {
            "text/plain": [
              "{1: 'Happy', '2022': 'Year', 7: 3.14, 'N': 'NNNNEWWWW'}"
            ]
          },
          "metadata": {},
          "execution_count": 13
        }
      ]
    },
    {
      "cell_type": "markdown",
      "source": [
        "## Numpy Array"
      ],
      "metadata": {
        "id": "ehJnUQDdOzNM"
      }
    },
    {
      "cell_type": "markdown",
      "source": [
        "- เก็บได้แค่ตัวเลข\n",
        "- อ้างอิงโดยใช้พิกัด (2มิติ ก็มองเป็น Matrix)"
      ],
      "metadata": {
        "id": "S6Ten-7wUeVS"
      }
    },
    {
      "cell_type": "code",
      "source": [
        "import numpy # ใช้code ของคนอื่นที่เขียนไว้"
      ],
      "metadata": {
        "id": "ZWYdc6AhTNuU"
      },
      "execution_count": 14,
      "outputs": []
    },
    {
      "cell_type": "markdown",
      "source": [
        "### 1D array"
      ],
      "metadata": {
        "id": "o8kUjousYHfH"
      }
    },
    {
      "cell_type": "code",
      "source": [
        "arr_a = numpy.array([1,2,3,4,5])"
      ],
      "metadata": {
        "id": "ZwaG1GodVSjz"
      },
      "execution_count": 15,
      "outputs": []
    },
    {
      "cell_type": "code",
      "source": [
        "arr_a"
      ],
      "metadata": {
        "colab": {
          "base_uri": "https://localhost:8080/"
        },
        "id": "5s8XavxwVgln",
        "outputId": "023d8dab-ef81-483a-e813-68e7f613e07d"
      },
      "execution_count": 16,
      "outputs": [
        {
          "output_type": "execute_result",
          "data": {
            "text/plain": [
              "array([1, 2, 3, 4, 5])"
            ]
          },
          "metadata": {},
          "execution_count": 16
        }
      ]
    },
    {
      "cell_type": "code",
      "source": [
        "arr_a[0]"
      ],
      "metadata": {
        "colab": {
          "base_uri": "https://localhost:8080/"
        },
        "id": "We9aKorsVoUq",
        "outputId": "79f845ac-5f42-433c-e519-95d82f7cf0c7"
      },
      "execution_count": 17,
      "outputs": [
        {
          "output_type": "execute_result",
          "data": {
            "text/plain": [
              "1"
            ]
          },
          "metadata": {},
          "execution_count": 17
        }
      ]
    },
    {
      "cell_type": "code",
      "source": [
        "list_A = [5,6,7,8,9] # ใช้ list ได้เหมือนกัน\n",
        "arr_b = numpy.array(list_A)\n",
        "arr_b"
      ],
      "metadata": {
        "colab": {
          "base_uri": "https://localhost:8080/"
        },
        "id": "pcXu6xc0V36K",
        "outputId": "e9ba024d-ea18-4ce7-94de-4b56bfaeb83f"
      },
      "execution_count": 18,
      "outputs": [
        {
          "output_type": "execute_result",
          "data": {
            "text/plain": [
              "array([5, 6, 7, 8, 9])"
            ]
          },
          "metadata": {},
          "execution_count": 18
        }
      ]
    },
    {
      "cell_type": "code",
      "source": [
        "5 * arr_a # Matrix (scalar multiplication)"
      ],
      "metadata": {
        "colab": {
          "base_uri": "https://localhost:8080/"
        },
        "id": "ZI0p-jCTWZh4",
        "outputId": "5fc0fa6a-84bd-467c-b2e1-6ee05e49b247"
      },
      "execution_count": 19,
      "outputs": [
        {
          "output_type": "execute_result",
          "data": {
            "text/plain": [
              "array([ 5, 10, 15, 20, 25])"
            ]
          },
          "metadata": {},
          "execution_count": 19
        }
      ]
    },
    {
      "cell_type": "code",
      "source": [
        "5*list_A # list จะต่างกับ arr ตรงนี้"
      ],
      "metadata": {
        "colab": {
          "base_uri": "https://localhost:8080/"
        },
        "id": "haGHWR57W0It",
        "outputId": "a49fabcc-dc12-4228-e48e-399572023d82"
      },
      "execution_count": 20,
      "outputs": [
        {
          "output_type": "execute_result",
          "data": {
            "text/plain": [
              "[5, 6, 7, 8, 9, 5, 6, 7, 8, 9, 5, 6, 7, 8, 9, 5, 6, 7, 8, 9, 5, 6, 7, 8, 9]"
            ]
          },
          "metadata": {},
          "execution_count": 20
        }
      ]
    },
    {
      "cell_type": "code",
      "source": [
        "arr_c = numpy.array([10,20,30,40,50])"
      ],
      "metadata": {
        "id": "SiEfI1RlXMdy"
      },
      "execution_count": 21,
      "outputs": []
    },
    {
      "cell_type": "code",
      "source": [
        "print(arr_a)"
      ],
      "metadata": {
        "colab": {
          "base_uri": "https://localhost:8080/"
        },
        "id": "bp0tff15XZMi",
        "outputId": "6a6b62b6-aa8b-4f45-943a-8c4500b7407c"
      },
      "execution_count": 22,
      "outputs": [
        {
          "output_type": "stream",
          "name": "stdout",
          "text": [
            "[1 2 3 4 5]\n"
          ]
        }
      ]
    },
    {
      "cell_type": "code",
      "source": [
        "arr_a + arr_c #matrix บวก matrix "
      ],
      "metadata": {
        "colab": {
          "base_uri": "https://localhost:8080/"
        },
        "id": "mTlCxOOOXo8z",
        "outputId": "0d5c30fc-6730-49c2-b73d-eac2ba7ae7a0"
      },
      "execution_count": 23,
      "outputs": [
        {
          "output_type": "execute_result",
          "data": {
            "text/plain": [
              "array([11, 22, 33, 44, 55])"
            ]
          },
          "metadata": {},
          "execution_count": 23
        }
      ]
    },
    {
      "cell_type": "code",
      "source": [
        "arr_a.shape"
      ],
      "metadata": {
        "colab": {
          "base_uri": "https://localhost:8080/"
        },
        "id": "lpVF_t_fZw5h",
        "outputId": "9c87c63f-8fed-4855-e277-8fef3fb793fa"
      },
      "execution_count": 30,
      "outputs": [
        {
          "output_type": "execute_result",
          "data": {
            "text/plain": [
              "(5,)"
            ]
          },
          "metadata": {},
          "execution_count": 30
        }
      ]
    },
    {
      "cell_type": "markdown",
      "source": [
        "### 2D arrary"
      ],
      "metadata": {
        "id": "qNilCC6oYDbz"
      }
    },
    {
      "cell_type": "code",
      "source": [
        "import numpy as np # import แต่เปลี่ยนชื่อให้มันสั้นสะดวกต่อการพิมพ์"
      ],
      "metadata": {
        "id": "eIWBXdz0YN-0"
      },
      "execution_count": 24,
      "outputs": []
    },
    {
      "cell_type": "code",
      "source": [
        "arr2_z = np.array([[1,2,3],[4,5,6]])"
      ],
      "metadata": {
        "id": "UuApAVX0YZGs"
      },
      "execution_count": 26,
      "outputs": []
    },
    {
      "cell_type": "code",
      "source": [
        "arr2_z"
      ],
      "metadata": {
        "colab": {
          "base_uri": "https://localhost:8080/"
        },
        "id": "bfjnuTyQZB6H",
        "outputId": "fd7db5fa-7567-403d-de6e-1ea40788e6cc"
      },
      "execution_count": 27,
      "outputs": [
        {
          "output_type": "execute_result",
          "data": {
            "text/plain": [
              "array([[1, 2, 3],\n",
              "       [4, 5, 6]])"
            ]
          },
          "metadata": {},
          "execution_count": 27
        }
      ]
    },
    {
      "cell_type": "code",
      "source": [
        "arr2_z.shape"
      ],
      "metadata": {
        "colab": {
          "base_uri": "https://localhost:8080/"
        },
        "id": "hqii5kDyZjLN",
        "outputId": "ba7f474e-5c3a-485e-9b9e-e15639ee5ea5"
      },
      "execution_count": 29,
      "outputs": [
        {
          "output_type": "execute_result",
          "data": {
            "text/plain": [
              "(2, 3)"
            ]
          },
          "metadata": {},
          "execution_count": 29
        }
      ]
    },
    {
      "cell_type": "markdown",
      "source": [
        "### np.zeros()"
      ],
      "metadata": {
        "id": "yE6Ts5epZiMT"
      }
    },
    {
      "cell_type": "code",
      "source": [
        "arr2_3_5_0 =np.zeros((3,5))"
      ],
      "metadata": {
        "id": "vXEbsuOKZ_B_"
      },
      "execution_count": 31,
      "outputs": []
    },
    {
      "cell_type": "code",
      "source": [
        "arr2_3_5_0"
      ],
      "metadata": {
        "colab": {
          "base_uri": "https://localhost:8080/"
        },
        "id": "y155eVPjaKQ2",
        "outputId": "83be5822-14cb-4dec-e846-fa3c98d84d6a"
      },
      "execution_count": 32,
      "outputs": [
        {
          "output_type": "execute_result",
          "data": {
            "text/plain": [
              "array([[0., 0., 0., 0., 0.],\n",
              "       [0., 0., 0., 0., 0.],\n",
              "       [0., 0., 0., 0., 0.]])"
            ]
          },
          "metadata": {},
          "execution_count": 32
        }
      ]
    },
    {
      "cell_type": "code",
      "source": [
        "arr2_3_5_0[1,2] = 9"
      ],
      "metadata": {
        "id": "CMwxrN1DaYJv"
      },
      "execution_count": 35,
      "outputs": []
    },
    {
      "cell_type": "code",
      "source": [
        "arr2_3_5_0"
      ],
      "metadata": {
        "colab": {
          "base_uri": "https://localhost:8080/"
        },
        "id": "NiuKlzvXas3Y",
        "outputId": "0208eb27-702f-4bd5-ea5a-777b1c5dbe95"
      },
      "execution_count": 36,
      "outputs": [
        {
          "output_type": "execute_result",
          "data": {
            "text/plain": [
              "array([[0., 0., 0., 0., 0.],\n",
              "       [0., 0., 9., 0., 0.],\n",
              "       [0., 0., 0., 0., 0.]])"
            ]
          },
          "metadata": {},
          "execution_count": 36
        }
      ]
    },
    {
      "cell_type": "code",
      "source": [
        "arr2_3_5_0[1,2]"
      ],
      "metadata": {
        "colab": {
          "base_uri": "https://localhost:8080/"
        },
        "id": "9Yth949Na0x3",
        "outputId": "93606465-713f-41fd-aa50-6d37b2d05591"
      },
      "execution_count": 37,
      "outputs": [
        {
          "output_type": "execute_result",
          "data": {
            "text/plain": [
              "9.0"
            ]
          },
          "metadata": {},
          "execution_count": 37
        }
      ]
    },
    {
      "cell_type": "code",
      "source": [
        "print(list_A)# เปลี่ยน ค่าใน list()\n",
        "list_A[-1] = 'christmas'\n",
        "print(list_A)"
      ],
      "metadata": {
        "colab": {
          "base_uri": "https://localhost:8080/"
        },
        "id": "3AQx57YfbSPG",
        "outputId": "685a9b75-5fb4-4a23-9b1b-d769b2e37934"
      },
      "execution_count": 38,
      "outputs": [
        {
          "output_type": "stream",
          "name": "stdout",
          "text": [
            "[5, 6, 7, 8, 9]\n",
            "[5, 6, 7, 8, 'christmas']\n"
          ]
        }
      ]
    },
    {
      "cell_type": "markdown",
      "source": [
        "###  np.ones()"
      ],
      "metadata": {
        "id": "_YKJ57Xmb_N2"
      }
    },
    {
      "cell_type": "code",
      "source": [
        "arr2_4_5_1 = np.ones((4,5))"
      ],
      "metadata": {
        "id": "RUnNtczkb8T9"
      },
      "execution_count": 39,
      "outputs": []
    },
    {
      "cell_type": "code",
      "source": [
        "arr2_4_5_1"
      ],
      "metadata": {
        "colab": {
          "base_uri": "https://localhost:8080/"
        },
        "id": "2TyizmOMcOTY",
        "outputId": "ef1d8a3f-95ac-40ff-8182-3d6878df94e1"
      },
      "execution_count": 40,
      "outputs": [
        {
          "output_type": "execute_result",
          "data": {
            "text/plain": [
              "array([[1., 1., 1., 1., 1.],\n",
              "       [1., 1., 1., 1., 1.],\n",
              "       [1., 1., 1., 1., 1.],\n",
              "       [1., 1., 1., 1., 1.]])"
            ]
          },
          "metadata": {},
          "execution_count": 40
        }
      ]
    },
    {
      "cell_type": "code",
      "source": [
        "arr2_4_5_200 = 200*np.ones((4,5))"
      ],
      "metadata": {
        "id": "gJx3R4CWchVP"
      },
      "execution_count": 41,
      "outputs": []
    },
    {
      "cell_type": "code",
      "source": [
        "arr2_4_5_200"
      ],
      "metadata": {
        "colab": {
          "base_uri": "https://localhost:8080/"
        },
        "id": "_iMpUgt0cswM",
        "outputId": "f7474554-b7cc-44eb-9ef1-b2b9f56f3171"
      },
      "execution_count": 42,
      "outputs": [
        {
          "output_type": "execute_result",
          "data": {
            "text/plain": [
              "array([[200., 200., 200., 200., 200.],\n",
              "       [200., 200., 200., 200., 200.],\n",
              "       [200., 200., 200., 200., 200.],\n",
              "       [200., 200., 200., 200., 200.]])"
            ]
          },
          "metadata": {},
          "execution_count": 42
        }
      ]
    },
    {
      "cell_type": "markdown",
      "source": [
        "### Matrix operations"
      ],
      "metadata": {
        "id": "zc4ftXs3c30n"
      }
    },
    {
      "cell_type": "markdown",
      "source": [
        "#### การบวก ลบ matrix $M \\pm N$ บวกลบตัวที่อยู่ตำแหน่งเดียวกัน"
      ],
      "metadata": {
        "id": "K-w9Hmwxc96F"
      }
    },
    {
      "cell_type": "code",
      "source": [
        "arr2_4_5_200 + arr2_3_5_0 # บวกลบกันไม่ได้ เพราะ ขนาดไม่เท่ากัน"
      ],
      "metadata": {
        "colab": {
          "base_uri": "https://localhost:8080/",
          "height": 166
        },
        "id": "IMrWCSBNdCga",
        "outputId": "e01948fb-ecc8-4531-ce25-e113a3484084"
      },
      "execution_count": 44,
      "outputs": [
        {
          "output_type": "error",
          "ename": "ValueError",
          "evalue": "ignored",
          "traceback": [
            "\u001b[0;31m---------------------------------------------------------------------------\u001b[0m",
            "\u001b[0;31mValueError\u001b[0m                                Traceback (most recent call last)",
            "\u001b[0;32m<ipython-input-44-abd0b1a49a01>\u001b[0m in \u001b[0;36m<module>\u001b[0;34m()\u001b[0m\n\u001b[0;32m----> 1\u001b[0;31m \u001b[0marr2_4_5_200\u001b[0m \u001b[0;34m+\u001b[0m \u001b[0marr2_3_5_0\u001b[0m \u001b[0;31m# บวกลบกันไม่ได้ เพราะ ขนาดไม่เท่ากัน\u001b[0m\u001b[0;34m\u001b[0m\u001b[0;34m\u001b[0m\u001b[0m\n\u001b[0m",
            "\u001b[0;31mValueError\u001b[0m: operands could not be broadcast together with shapes (4,5) (3,5) "
          ]
        }
      ]
    },
    {
      "cell_type": "code",
      "source": [
        "arr2_4_5_200 + arr2_4_5_1"
      ],
      "metadata": {
        "colab": {
          "base_uri": "https://localhost:8080/"
        },
        "id": "cyD-I3wRdTSn",
        "outputId": "61a5926f-a3aa-4636-a6ac-d03504506ce3"
      },
      "execution_count": 45,
      "outputs": [
        {
          "output_type": "execute_result",
          "data": {
            "text/plain": [
              "array([[201., 201., 201., 201., 201.],\n",
              "       [201., 201., 201., 201., 201.],\n",
              "       [201., 201., 201., 201., 201.],\n",
              "       [201., 201., 201., 201., 201.]])"
            ]
          },
          "metadata": {},
          "execution_count": 45
        }
      ]
    },
    {
      "cell_type": "markdown",
      "source": [
        "#### การคูณ matrix \n",
        "- $aM$  scalar คูณ Matrix (scalar คูณกระจายเข้าไปทุกตัวของ Matrix) \n",
        "- $M \\times N$คูณ Matrix (แถวคูณหลัก)"
      ],
      "metadata": {
        "id": "J9sooWRXdaPQ"
      }
    },
    {
      "cell_type": "markdown",
      "source": [
        "$aM$"
      ],
      "metadata": {
        "id": "BqG4DRP4eqyY"
      }
    },
    {
      "cell_type": "code",
      "source": [
        "5 * arr_a"
      ],
      "metadata": {
        "colab": {
          "base_uri": "https://localhost:8080/"
        },
        "id": "jchtfJI1ejLw",
        "outputId": "f2397a9b-4c58-4437-ad8c-f9ac54827d78"
      },
      "execution_count": 46,
      "outputs": [
        {
          "output_type": "execute_result",
          "data": {
            "text/plain": [
              "array([ 5, 10, 15, 20, 25])"
            ]
          },
          "metadata": {},
          "execution_count": 46
        }
      ]
    },
    {
      "cell_type": "markdown",
      "source": [
        "$M \\times N$\n",
        "- (m,n) $\\times$ (n,o) = (m,o)"
      ],
      "metadata": {
        "id": "j2KZNHn1evQw"
      }
    },
    {
      "cell_type": "code",
      "source": [
        "mat_a = np.array([[2,3,5],[4,6,7]])\n",
        "mat_b = np.array([[1,2,5],[2,4,-7]])\n",
        "mat_c = np.array([[2,3,],[4,6],[7,9]])"
      ],
      "metadata": {
        "id": "waWBZgSMe5_x"
      },
      "execution_count": 47,
      "outputs": []
    },
    {
      "cell_type": "code",
      "source": [
        "mat_a"
      ],
      "metadata": {
        "colab": {
          "base_uri": "https://localhost:8080/"
        },
        "id": "EQecX1sagMwY",
        "outputId": "05d67bbf-4f2f-47a5-f711-969ae39c9bd9"
      },
      "execution_count": 48,
      "outputs": [
        {
          "output_type": "execute_result",
          "data": {
            "text/plain": [
              "array([[2, 3, 5],\n",
              "       [4, 6, 7]])"
            ]
          },
          "metadata": {},
          "execution_count": 48
        }
      ]
    },
    {
      "cell_type": "code",
      "source": [
        "mat_b"
      ],
      "metadata": {
        "colab": {
          "base_uri": "https://localhost:8080/"
        },
        "id": "s4vleCizgNwT",
        "outputId": "7a0d8547-4d47-456d-e540-2c50b638624c"
      },
      "execution_count": 50,
      "outputs": [
        {
          "output_type": "execute_result",
          "data": {
            "text/plain": [
              "array([[ 1,  2,  5],\n",
              "       [ 2,  4, -7]])"
            ]
          },
          "metadata": {},
          "execution_count": 50
        }
      ]
    },
    {
      "cell_type": "code",
      "source": [
        "mat_c"
      ],
      "metadata": {
        "colab": {
          "base_uri": "https://localhost:8080/"
        },
        "id": "NQI1h3ZNgOfl",
        "outputId": "89068c1d-9380-4908-8923-3b09076840b8"
      },
      "execution_count": 49,
      "outputs": [
        {
          "output_type": "execute_result",
          "data": {
            "text/plain": [
              "array([[2, 3],\n",
              "       [4, 6],\n",
              "       [7, 9]])"
            ]
          },
          "metadata": {},
          "execution_count": 49
        }
      ]
    },
    {
      "cell_type": "markdown",
      "source": [
        "axc, bxc"
      ],
      "metadata": {
        "id": "2hqlnU4XgXFz"
      }
    },
    {
      "cell_type": "code",
      "source": [
        "np.dot(mat_a,mat_c)"
      ],
      "metadata": {
        "colab": {
          "base_uri": "https://localhost:8080/"
        },
        "id": "TizuZZBCgaQN",
        "outputId": "db9795ab-c47e-463b-c024-3d2c5f74d9a9"
      },
      "execution_count": 51,
      "outputs": [
        {
          "output_type": "execute_result",
          "data": {
            "text/plain": [
              "array([[ 51,  69],\n",
              "       [ 81, 111]])"
            ]
          },
          "metadata": {},
          "execution_count": 51
        }
      ]
    },
    {
      "cell_type": "code",
      "source": [
        "np.dot(mat_b,mat_c)"
      ],
      "metadata": {
        "colab": {
          "base_uri": "https://localhost:8080/"
        },
        "id": "bYTAwSf1gta5",
        "outputId": "df8a8e29-2d2d-4454-d142-2ee856fe4fca"
      },
      "execution_count": 52,
      "outputs": [
        {
          "output_type": "execute_result",
          "data": {
            "text/plain": [
              "array([[ 45,  60],\n",
              "       [-29, -33]])"
            ]
          },
          "metadata": {},
          "execution_count": 52
        }
      ]
    },
    {
      "cell_type": "markdown",
      "source": [
        "cxa, cxb"
      ],
      "metadata": {
        "id": "23hR_Ydzg_n-"
      }
    },
    {
      "cell_type": "code",
      "source": [
        "np.dot(mat_c,mat_a)"
      ],
      "metadata": {
        "colab": {
          "base_uri": "https://localhost:8080/"
        },
        "id": "3lv8DWTrg37o",
        "outputId": "6512d9b9-86aa-4c21-cfdf-b31a4581033e"
      },
      "execution_count": 53,
      "outputs": [
        {
          "output_type": "execute_result",
          "data": {
            "text/plain": [
              "array([[16, 24, 31],\n",
              "       [32, 48, 62],\n",
              "       [50, 75, 98]])"
            ]
          },
          "metadata": {},
          "execution_count": 53
        }
      ]
    },
    {
      "cell_type": "code",
      "source": [
        "np.dot(mat_c,mat_b)"
      ],
      "metadata": {
        "colab": {
          "base_uri": "https://localhost:8080/"
        },
        "id": "6vhwcRGDg8zN",
        "outputId": "fb00156e-c711-41b5-f629-82752a772c8b"
      },
      "execution_count": 54,
      "outputs": [
        {
          "output_type": "execute_result",
          "data": {
            "text/plain": [
              "array([[  8,  16, -11],\n",
              "       [ 16,  32, -22],\n",
              "       [ 25,  50, -28]])"
            ]
          },
          "metadata": {},
          "execution_count": 54
        }
      ]
    },
    {
      "cell_type": "code",
      "source": [
        "mat_X = np.dot(mat_c,mat_b)\n",
        "print(mat_X)"
      ],
      "metadata": {
        "id": "AcwSmxxAmgS0",
        "outputId": "9a48f596-4839-4910-833a-feaf0d84f8fb",
        "colab": {
          "base_uri": "https://localhost:8080/"
        }
      },
      "execution_count": 64,
      "outputs": [
        {
          "output_type": "stream",
          "name": "stdout",
          "text": [
            "[[  8  16 -11]\n",
            " [ 16  32 -22]\n",
            " [ 25  50 -28]]\n"
          ]
        }
      ]
    },
    {
      "cell_type": "code",
      "source": [
        "mat_a * mat_b # คูณตัวตำแหน่งเดียวกัน ใช้ไม่ได้"
      ],
      "metadata": {
        "colab": {
          "base_uri": "https://localhost:8080/"
        },
        "id": "RZ3TA_lPhTiT",
        "outputId": "4a32cf5e-5860-42ed-bf49-27c7b32142ce"
      },
      "execution_count": 56,
      "outputs": [
        {
          "output_type": "execute_result",
          "data": {
            "text/plain": [
              "array([[  2,   6,  25],\n",
              "       [  8,  24, -49]])"
            ]
          },
          "metadata": {},
          "execution_count": 56
        }
      ]
    },
    {
      "cell_type": "markdown",
      "source": [
        "### Matrix Slicing"
      ],
      "metadata": {
        "id": "fi2WgpmBhysA"
      }
    },
    {
      "cell_type": "code",
      "source": [
        "mat_X[:2,:2]"
      ],
      "metadata": {
        "colab": {
          "base_uri": "https://localhost:8080/"
        },
        "id": "ItCDTvsoh3Q3",
        "outputId": "c8866a08-5a2f-4bcb-d5aa-fa3bd49cdf60"
      },
      "execution_count": 65,
      "outputs": [
        {
          "output_type": "execute_result",
          "data": {
            "text/plain": [
              "array([[ 8, 16],\n",
              "       [16, 32]])"
            ]
          },
          "metadata": {},
          "execution_count": 65
        }
      ]
    },
    {
      "cell_type": "markdown",
      "source": [
        "HW 3 \n",
        "\n",
        "1. สร้าง array ที่เป็นรูปต้น chrismas\n",
        "2. slice เลข 1 ออกมาจาก array HW3"
      ],
      "metadata": {
        "id": "jQTqfEUdisUE"
      }
    },
    {
      "cell_type": "code",
      "source": [
        "HW3 = np.zeros((10,10))\n",
        "HW3"
      ],
      "metadata": {
        "colab": {
          "base_uri": "https://localhost:8080/"
        },
        "id": "_CEQkBRVkQjd",
        "outputId": "32d29854-bdd6-4a18-d2d2-9bd50a531217"
      },
      "execution_count": 59,
      "outputs": [
        {
          "output_type": "execute_result",
          "data": {
            "text/plain": [
              "array([[0., 0., 0., 0., 0., 0., 0., 0., 0., 0.],\n",
              "       [0., 0., 0., 0., 0., 0., 0., 0., 0., 0.],\n",
              "       [0., 0., 0., 0., 0., 0., 0., 0., 0., 0.],\n",
              "       [0., 0., 0., 0., 0., 0., 0., 0., 0., 0.],\n",
              "       [0., 0., 0., 0., 0., 0., 0., 0., 0., 0.],\n",
              "       [0., 0., 0., 0., 0., 0., 0., 0., 0., 0.],\n",
              "       [0., 0., 0., 0., 0., 0., 0., 0., 0., 0.],\n",
              "       [0., 0., 0., 0., 0., 0., 0., 0., 0., 0.],\n",
              "       [0., 0., 0., 0., 0., 0., 0., 0., 0., 0.],\n",
              "       [0., 0., 0., 0., 0., 0., 0., 0., 0., 0.]])"
            ]
          },
          "metadata": {},
          "execution_count": 59
        }
      ]
    },
    {
      "cell_type": "code",
      "source": [
        "HW3[::4,2] = 1\n",
        "HW3[::4,4] = 1\n",
        "HW3[::4,6] = 1\n",
        "HW3[::4,8] = 1\n",
        "HW3"
      ],
      "metadata": {
        "colab": {
          "base_uri": "https://localhost:8080/"
        },
        "id": "VF4iGKYtkerQ",
        "outputId": "9fa96a72-81bc-43d9-b8c4-be61c66bab4e"
      },
      "execution_count": 63,
      "outputs": [
        {
          "output_type": "execute_result",
          "data": {
            "text/plain": [
              "array([[0., 0., 1., 0., 1., 0., 1., 0., 1., 0.],\n",
              "       [0., 0., 0., 0., 0., 0., 0., 0., 0., 0.],\n",
              "       [0., 0., 0., 0., 0., 0., 0., 0., 0., 0.],\n",
              "       [0., 0., 0., 0., 0., 0., 0., 0., 0., 0.],\n",
              "       [0., 0., 1., 0., 1., 0., 1., 0., 1., 0.],\n",
              "       [0., 0., 0., 0., 0., 0., 0., 0., 0., 0.],\n",
              "       [0., 0., 0., 0., 0., 0., 0., 0., 0., 0.],\n",
              "       [0., 0., 0., 0., 0., 0., 0., 0., 0., 0.],\n",
              "       [0., 0., 1., 0., 1., 0., 1., 0., 1., 0.],\n",
              "       [0., 0., 0., 0., 0., 0., 0., 0., 0., 0.]])"
            ]
          },
          "metadata": {},
          "execution_count": 63
        }
      ]
    },
    {
      "cell_type": "markdown",
      "source": [
        "## panda Dataframe (แยกออกไปเป็น Notebook เฉพาะ)"
      ],
      "metadata": {
        "id": "qF_isDQ2PDnc"
      }
    },
    {
      "cell_type": "code",
      "source": [
        ""
      ],
      "metadata": {
        "id": "3EUm_f_bPCCq"
      },
      "execution_count": null,
      "outputs": []
    }
  ]
}