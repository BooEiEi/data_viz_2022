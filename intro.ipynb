{
  "nbformat": 4,
  "nbformat_minor": 0,
  "metadata": {
    "colab": {
      "name": "intro",
      "provenance": [],
      "authorship_tag": "ABX9TyODriYl/ElkwHm4OmHmFZEL",
      "include_colab_link": true
    },
    "kernelspec": {
      "name": "python3",
      "display_name": "Python 3"
    },
    "language_info": {
      "name": "python"
    }
  },
  "cells": [
    {
      "cell_type": "markdown",
      "metadata": {
        "id": "view-in-github",
        "colab_type": "text"
      },
      "source": [
        "<a href=\"https://colab.research.google.com/github/BooEiEi/data_viz_2022/blob/main/intro.ipynb\" target=\"_parent\"><img src=\"https://colab.research.google.com/assets/colab-badge.svg\" alt=\"Open In Colab\"/></a>"
      ]
    },
    {
      "cell_type": "markdown",
      "source": [
        "Introduction Basic Programming for Data Science and Data Visualization"
      ],
      "metadata": {
        "id": "q68fdUmlGmam"
      }
    },
    {
      "cell_type": "code",
      "execution_count": 1,
      "metadata": {
        "colab": {
          "base_uri": "https://localhost:8080/"
        },
        "id": "MiMdC9d7-rLV",
        "outputId": "df3e3f13-ddf7-4af1-fc00-17c090d2883b"
      },
      "outputs": [
        {
          "output_type": "execute_result",
          "data": {
            "text/plain": [
              "3"
            ]
          },
          "metadata": {},
          "execution_count": 1
        }
      ],
      "source": [
        "a=1\n",
        "b=2\n",
        "a+b"
      ]
    },
    {
      "cell_type": "code",
      "source": [
        "print('ญาดา สรณะสมบูรณ์ ID 623020732-5 ')"
      ],
      "metadata": {
        "colab": {
          "base_uri": "https://localhost:8080/"
        },
        "id": "e8vU-55Z-tAU",
        "outputId": "1a0730c8-444e-4a91-97b4-f5e9697cf30c"
      },
      "execution_count": 3,
      "outputs": [
        {
          "output_type": "stream",
          "name": "stdout",
          "text": [
            "ญาดา สรณะสมบูรณ์ ID 623020732-5 \n"
          ]
        }
      ]
    },
    {
      "cell_type": "code",
      "source": [
        ""
      ],
      "metadata": {
        "id": "NNwPLequ_9nW"
      },
      "execution_count": null,
      "outputs": []
    }
  ]
}